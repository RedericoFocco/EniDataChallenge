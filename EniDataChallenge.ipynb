{
 "cells": [
  {
   "cell_type": "markdown",
   "metadata": {},
   "source": [
    "Imports"
   ]
  },
  {
   "cell_type": "code",
   "execution_count": 64,
   "metadata": {},
   "outputs": [],
   "source": [
    "import pandas as pd"
   ]
  },
  {
   "cell_type": "markdown",
   "metadata": {},
   "source": [
    "Read File"
   ]
  },
  {
   "cell_type": "code",
   "execution_count": 65,
   "metadata": {},
   "outputs": [],
   "source": [
    "file_path='./data/CTG.xls'\n",
    "df_data_clean = pd.read_excel(file_path,'Data')\n",
    "df_raw = pd.read_excel(file_path,'Raw Data',skiprows=[1,2])"
   ]
  },
  {
   "cell_type": "code",
   "execution_count": 66,
   "metadata": {},
   "outputs": [
    {
     "data": {
      "text/plain": [
       "False"
      ]
     },
     "execution_count": 66,
     "metadata": {},
     "output_type": "execute_result"
    }
   ],
   "source": [
    "df_raw.columns.equals(df_data_clean.columns)"
   ]
  },
  {
   "cell_type": "code",
   "execution_count": 67,
   "metadata": {},
   "outputs": [
    {
     "data": {
      "text/plain": [
       "Index(['FileName', 'Date', 'SegFile', 'b', 'e', 'LBE', 'LB', 'AC', 'FM', 'UC',\n",
       "       'ASTV', 'MSTV', 'ALTV', 'MLTV', 'DL', 'DS', 'DP', 'DR', 'Width', 'Min',\n",
       "       'Max', 'Nmax', 'Nzeros', 'Mode', 'Mean', 'Median', 'Variance',\n",
       "       'Tendency', 'A', 'B', 'C', 'D', 'E', 'AD', 'DE', 'LD', 'FS', 'SUSP',\n",
       "       'CLASS', 'NSP'],\n",
       "      dtype='object')"
      ]
     },
     "execution_count": 67,
     "metadata": {},
     "output_type": "execute_result"
    }
   ],
   "source": [
    "df_raw.columns"
   ]
  },
  {
   "cell_type": "markdown",
   "metadata": {},
   "source": [
    "Data Cleaning"
   ]
  },
  {
   "cell_type": "code",
   "execution_count": 68,
   "metadata": {},
   "outputs": [
    {
     "data": {
      "text/plain": [
       "True"
      ]
     },
     "execution_count": 68,
     "metadata": {},
     "output_type": "execute_result"
    }
   ],
   "source": [
    "df_raw.isnull().values.any() #faster than isna or sum"
   ]
  },
  {
   "cell_type": "code",
   "execution_count": 69,
   "metadata": {},
   "outputs": [
    {
     "data": {
      "text/plain": [
       "['FileName',\n",
       " 'Date',\n",
       " 'SegFile',\n",
       " 'b',\n",
       " 'e',\n",
       " 'LBE',\n",
       " 'LB',\n",
       " 'AC',\n",
       " 'FM',\n",
       " 'UC',\n",
       " 'ASTV',\n",
       " 'MSTV',\n",
       " 'ALTV',\n",
       " 'MLTV',\n",
       " 'DL',\n",
       " 'DS',\n",
       " 'DP',\n",
       " 'DR',\n",
       " 'Width',\n",
       " 'Min',\n",
       " 'Max',\n",
       " 'Nmax',\n",
       " 'Nzeros',\n",
       " 'Mode',\n",
       " 'Mean',\n",
       " 'Median',\n",
       " 'Variance',\n",
       " 'Tendency',\n",
       " 'A',\n",
       " 'B',\n",
       " 'C',\n",
       " 'D',\n",
       " 'E',\n",
       " 'AD',\n",
       " 'DE',\n",
       " 'LD',\n",
       " 'FS',\n",
       " 'SUSP',\n",
       " 'CLASS',\n",
       " 'NSP']"
      ]
     },
     "execution_count": 69,
     "metadata": {},
     "output_type": "execute_result"
    }
   ],
   "source": [
    "df_raw.columns[df_raw.isnull().any()].tolist()"
   ]
  },
  {
   "cell_type": "code",
   "execution_count": 70,
   "metadata": {},
   "outputs": [
    {
     "data": {
      "text/plain": [
       "0         Fmcs_1.txt\n",
       "1         Fmcs_1.txt\n",
       "2         Fmcs_1.txt\n",
       "3         Fmcs_1.txt\n",
       "4         Fmcs_2.txt\n",
       "            ...     \n",
       "2123    S8001045.dsp\n",
       "2124    S8001045.dsp\n",
       "2125             NaN\n",
       "2126             NaN\n",
       "2127             NaN\n",
       "Name: FileName, Length: 2128, dtype: object"
      ]
     },
     "execution_count": 70,
     "metadata": {},
     "output_type": "execute_result"
    }
   ],
   "source": [
    "df_raw['FileName']"
   ]
  },
  {
   "cell_type": "code",
   "execution_count": 71,
   "metadata": {},
   "outputs": [],
   "source": [
    "df_raw = df_raw.iloc[:-3,:]"
   ]
  },
  {
   "cell_type": "code",
   "execution_count": 72,
   "metadata": {},
   "outputs": [
    {
     "data": {
      "text/plain": [
       "False"
      ]
     },
     "execution_count": 72,
     "metadata": {},
     "output_type": "execute_result"
    }
   ],
   "source": [
    "df_raw['FileName'].isnull().any()"
   ]
  },
  {
   "cell_type": "code",
   "execution_count": 73,
   "metadata": {},
   "outputs": [
    {
     "data": {
      "text/plain": [
       "False"
      ]
     },
     "execution_count": 73,
     "metadata": {},
     "output_type": "execute_result"
    }
   ],
   "source": [
    "df_raw.isnull().values.any() #faster than isna or sum"
   ]
  },
  {
   "cell_type": "markdown",
   "metadata": {},
   "source": [
    "Data analysis"
   ]
  },
  {
   "cell_type": "code",
   "execution_count": 74,
   "metadata": {},
   "outputs": [],
   "source": [
    "measure_columns = [\"b\",\"e\",\"LBE\",\"LB\",\"AC\",\"FM\",\"UC\",\"ASTV\",\"MSTV\",\"ALTV\",\"MLTV\",\"DL\",\"DS\",\"DP\",\"DR\",\"Width\",\"Min\",\"Max\",\"Nmax\",\"Nzeros\",\"Mode\",\"Mean\",\"Median\",\"Variance\",\"Tendency\"]\n",
    "measure_columns_no_aggregates = [\"b\",\"e\",\"LBE\",\"LB\",\"AC\",\"FM\",\"UC\",\"ASTV\",\"MSTV\",\"ALTV\",\"MLTV\",\"DL\",\"DS\",\"DP\",\"DR\"]\n",
    "df_raw_measures = df_raw.loc[:,measure_columns]\n",
    "df_raw_measures_no_aggregates = df_raw.loc[:,measure_columns_no_aggregates]"
   ]
  },
  {
   "cell_type": "code",
   "execution_count": 75,
   "metadata": {},
   "outputs": [
    {
     "name": "stdout",
     "output_type": "stream",
     "text": [
      "           b       e    LBE     LB   AC   FM    UC  ASTV  MSTV  ALTV  MLTV  \\\n",
      "0        5.0   632.0  132.0  132.0  4.0  0.0   4.0  17.0   2.1   0.0  10.4   \n",
      "1      177.0   779.0  133.0  133.0  2.0  0.0   5.0  16.0   2.1   0.0  13.4   \n",
      "2      411.0  1192.0  134.0  134.0  2.0  0.0   6.0  16.0   2.4   0.0  23.0   \n",
      "3      533.0  1147.0  132.0  132.0  4.0  0.0   5.0  16.0   2.4   0.0  19.9   \n",
      "4        0.0   953.0  134.0  134.0  1.0  0.0  10.0  26.0   5.9   0.0   0.0   \n",
      "...      ...     ...    ...    ...  ...  ...   ...   ...   ...   ...   ...   \n",
      "2120  2059.0  2867.0  140.0  140.0  0.0  0.0   6.0  79.0   0.2  25.0   7.2   \n",
      "2121  1576.0  2867.0  140.0  140.0  1.0  0.0   9.0  78.0   0.4  22.0   7.1   \n",
      "2122  1576.0  2596.0  140.0  140.0  1.0  0.0   7.0  79.0   0.4  20.0   6.1   \n",
      "2123  1576.0  3049.0  140.0  140.0  1.0  0.0   9.0  78.0   0.4  27.0   7.0   \n",
      "2124  2796.0  3415.0  142.0  142.0  1.0  1.0   5.0  74.0   0.4  36.0   5.0   \n",
      "\n",
      "       DL   DS   DP   DR  \n",
      "0     2.0  0.0  0.0  0.0  \n",
      "1     2.0  0.0  0.0  0.0  \n",
      "2     2.0  0.0  0.0  0.0  \n",
      "3     0.0  0.0  0.0  0.0  \n",
      "4     9.0  0.0  2.0  0.0  \n",
      "...   ...  ...  ...  ...  \n",
      "2120  0.0  0.0  0.0  0.0  \n",
      "2121  0.0  0.0  0.0  0.0  \n",
      "2122  0.0  0.0  0.0  0.0  \n",
      "2123  0.0  0.0  0.0  0.0  \n",
      "2124  0.0  0.0  0.0  0.0  \n",
      "\n",
      "[2125 rows x 15 columns]\n"
     ]
    }
   ],
   "source": [
    "print(df_raw_measures_no_aggregates)"
   ]
  },
  {
   "cell_type": "code",
   "execution_count": 76,
   "metadata": {},
   "outputs": [
    {
     "data": {
      "text/plain": [
       "True"
      ]
     },
     "execution_count": 76,
     "metadata": {},
     "output_type": "execute_result"
    }
   ],
   "source": [
    "(df_raw_measures_no_aggregates[\"DR\"]==0).all()"
   ]
  },
  {
   "cell_type": "code",
   "execution_count": 77,
   "metadata": {},
   "outputs": [
    {
     "data": {
      "text/html": [
       "<div>\n",
       "<style scoped>\n",
       "    .dataframe tbody tr th:only-of-type {\n",
       "        vertical-align: middle;\n",
       "    }\n",
       "\n",
       "    .dataframe tbody tr th {\n",
       "        vertical-align: top;\n",
       "    }\n",
       "\n",
       "    .dataframe thead th {\n",
       "        text-align: right;\n",
       "    }\n",
       "</style>\n",
       "<table border=\"1\" class=\"dataframe\">\n",
       "  <thead>\n",
       "    <tr style=\"text-align: right;\">\n",
       "      <th></th>\n",
       "      <th>b</th>\n",
       "      <th>e</th>\n",
       "      <th>LBE</th>\n",
       "      <th>LB</th>\n",
       "      <th>AC</th>\n",
       "      <th>FM</th>\n",
       "      <th>UC</th>\n",
       "      <th>ASTV</th>\n",
       "      <th>MSTV</th>\n",
       "      <th>ALTV</th>\n",
       "      <th>MLTV</th>\n",
       "      <th>DL</th>\n",
       "      <th>DS</th>\n",
       "      <th>DP</th>\n",
       "      <th>DR</th>\n",
       "    </tr>\n",
       "  </thead>\n",
       "  <tbody>\n",
       "    <tr>\n",
       "      <th>b</th>\n",
       "      <td>1.000000</td>\n",
       "      <td>0.945005</td>\n",
       "      <td>-0.020866</td>\n",
       "      <td>-0.020866</td>\n",
       "      <td>-0.038626</td>\n",
       "      <td>-0.133932</td>\n",
       "      <td>0.225278</td>\n",
       "      <td>-0.125929</td>\n",
       "      <td>0.040201</td>\n",
       "      <td>-0.109352</td>\n",
       "      <td>-0.100410</td>\n",
       "      <td>0.091591</td>\n",
       "      <td>0.063966</td>\n",
       "      <td>0.091609</td>\n",
       "      <td>NaN</td>\n",
       "    </tr>\n",
       "    <tr>\n",
       "      <th>e</th>\n",
       "      <td>0.945005</td>\n",
       "      <td>1.000000</td>\n",
       "      <td>-0.014913</td>\n",
       "      <td>-0.014913</td>\n",
       "      <td>0.071096</td>\n",
       "      <td>-0.119442</td>\n",
       "      <td>0.386322</td>\n",
       "      <td>-0.065412</td>\n",
       "      <td>0.043995</td>\n",
       "      <td>-0.103469</td>\n",
       "      <td>-0.108922</td>\n",
       "      <td>0.162924</td>\n",
       "      <td>0.068215</td>\n",
       "      <td>0.111789</td>\n",
       "      <td>NaN</td>\n",
       "    </tr>\n",
       "    <tr>\n",
       "      <th>LBE</th>\n",
       "      <td>-0.020866</td>\n",
       "      <td>-0.014913</td>\n",
       "      <td>1.000000</td>\n",
       "      <td>1.000000</td>\n",
       "      <td>-0.078498</td>\n",
       "      <td>-0.033444</td>\n",
       "      <td>-0.128646</td>\n",
       "      <td>0.306830</td>\n",
       "      <td>-0.280386</td>\n",
       "      <td>0.287120</td>\n",
       "      <td>-0.032768</td>\n",
       "      <td>-0.156390</td>\n",
       "      <td>-0.053577</td>\n",
       "      <td>-0.117358</td>\n",
       "      <td>NaN</td>\n",
       "    </tr>\n",
       "    <tr>\n",
       "      <th>LB</th>\n",
       "      <td>-0.020866</td>\n",
       "      <td>-0.014913</td>\n",
       "      <td>1.000000</td>\n",
       "      <td>1.000000</td>\n",
       "      <td>-0.078498</td>\n",
       "      <td>-0.033444</td>\n",
       "      <td>-0.128646</td>\n",
       "      <td>0.306830</td>\n",
       "      <td>-0.280386</td>\n",
       "      <td>0.287120</td>\n",
       "      <td>-0.032768</td>\n",
       "      <td>-0.156390</td>\n",
       "      <td>-0.053577</td>\n",
       "      <td>-0.117358</td>\n",
       "      <td>NaN</td>\n",
       "    </tr>\n",
       "    <tr>\n",
       "      <th>AC</th>\n",
       "      <td>-0.038626</td>\n",
       "      <td>0.071096</td>\n",
       "      <td>-0.078498</td>\n",
       "      <td>-0.078498</td>\n",
       "      <td>1.000000</td>\n",
       "      <td>0.053894</td>\n",
       "      <td>0.211749</td>\n",
       "      <td>-0.197574</td>\n",
       "      <td>0.191105</td>\n",
       "      <td>-0.344824</td>\n",
       "      <td>-0.129321</td>\n",
       "      <td>-0.011579</td>\n",
       "      <td>-0.039367</td>\n",
       "      <td>-0.110432</td>\n",
       "      <td>NaN</td>\n",
       "    </tr>\n",
       "    <tr>\n",
       "      <th>FM</th>\n",
       "      <td>-0.133932</td>\n",
       "      <td>-0.119442</td>\n",
       "      <td>-0.033444</td>\n",
       "      <td>-0.033444</td>\n",
       "      <td>0.053894</td>\n",
       "      <td>1.000000</td>\n",
       "      <td>-0.036758</td>\n",
       "      <td>-0.116386</td>\n",
       "      <td>0.138004</td>\n",
       "      <td>-0.072105</td>\n",
       "      <td>0.020942</td>\n",
       "      <td>0.076233</td>\n",
       "      <td>-0.010334</td>\n",
       "      <td>0.205318</td>\n",
       "      <td>NaN</td>\n",
       "    </tr>\n",
       "    <tr>\n",
       "      <th>UC</th>\n",
       "      <td>0.225278</td>\n",
       "      <td>0.386322</td>\n",
       "      <td>-0.128646</td>\n",
       "      <td>-0.128646</td>\n",
       "      <td>0.211749</td>\n",
       "      <td>-0.036758</td>\n",
       "      <td>1.000000</td>\n",
       "      <td>-0.078809</td>\n",
       "      <td>0.232255</td>\n",
       "      <td>-0.246707</td>\n",
       "      <td>-0.107281</td>\n",
       "      <td>0.339267</td>\n",
       "      <td>0.018378</td>\n",
       "      <td>0.152292</td>\n",
       "      <td>NaN</td>\n",
       "    </tr>\n",
       "    <tr>\n",
       "      <th>ASTV</th>\n",
       "      <td>-0.125929</td>\n",
       "      <td>-0.065412</td>\n",
       "      <td>0.306830</td>\n",
       "      <td>0.306830</td>\n",
       "      <td>-0.197574</td>\n",
       "      <td>-0.116386</td>\n",
       "      <td>-0.078809</td>\n",
       "      <td>1.000000</td>\n",
       "      <td>-0.430355</td>\n",
       "      <td>0.458727</td>\n",
       "      <td>-0.314620</td>\n",
       "      <td>-0.036615</td>\n",
       "      <td>0.034008</td>\n",
       "      <td>0.053900</td>\n",
       "      <td>NaN</td>\n",
       "    </tr>\n",
       "    <tr>\n",
       "      <th>MSTV</th>\n",
       "      <td>0.040201</td>\n",
       "      <td>0.043995</td>\n",
       "      <td>-0.280386</td>\n",
       "      <td>-0.280386</td>\n",
       "      <td>0.191105</td>\n",
       "      <td>0.138004</td>\n",
       "      <td>0.232255</td>\n",
       "      <td>-0.430355</td>\n",
       "      <td>1.000000</td>\n",
       "      <td>-0.469917</td>\n",
       "      <td>0.073469</td>\n",
       "      <td>0.516778</td>\n",
       "      <td>0.034112</td>\n",
       "      <td>0.287493</td>\n",
       "      <td>NaN</td>\n",
       "    </tr>\n",
       "    <tr>\n",
       "      <th>ALTV</th>\n",
       "      <td>-0.109352</td>\n",
       "      <td>-0.103469</td>\n",
       "      <td>0.287120</td>\n",
       "      <td>0.287120</td>\n",
       "      <td>-0.344824</td>\n",
       "      <td>-0.072105</td>\n",
       "      <td>-0.246707</td>\n",
       "      <td>0.458727</td>\n",
       "      <td>-0.469917</td>\n",
       "      <td>1.000000</td>\n",
       "      <td>-0.170414</td>\n",
       "      <td>-0.265993</td>\n",
       "      <td>-0.030745</td>\n",
       "      <td>-0.140013</td>\n",
       "      <td>NaN</td>\n",
       "    </tr>\n",
       "    <tr>\n",
       "      <th>MLTV</th>\n",
       "      <td>-0.100410</td>\n",
       "      <td>-0.108922</td>\n",
       "      <td>-0.032768</td>\n",
       "      <td>-0.032768</td>\n",
       "      <td>-0.129321</td>\n",
       "      <td>0.020942</td>\n",
       "      <td>-0.107281</td>\n",
       "      <td>-0.314620</td>\n",
       "      <td>0.073469</td>\n",
       "      <td>-0.170414</td>\n",
       "      <td>1.000000</td>\n",
       "      <td>-0.251832</td>\n",
       "      <td>-0.037704</td>\n",
       "      <td>-0.231042</td>\n",
       "      <td>NaN</td>\n",
       "    </tr>\n",
       "    <tr>\n",
       "      <th>DL</th>\n",
       "      <td>0.091591</td>\n",
       "      <td>0.162924</td>\n",
       "      <td>-0.156390</td>\n",
       "      <td>-0.156390</td>\n",
       "      <td>-0.011579</td>\n",
       "      <td>0.076233</td>\n",
       "      <td>0.339267</td>\n",
       "      <td>-0.036615</td>\n",
       "      <td>0.516778</td>\n",
       "      <td>-0.265993</td>\n",
       "      <td>-0.251832</td>\n",
       "      <td>1.000000</td>\n",
       "      <td>0.121611</td>\n",
       "      <td>0.294020</td>\n",
       "      <td>NaN</td>\n",
       "    </tr>\n",
       "    <tr>\n",
       "      <th>DS</th>\n",
       "      <td>0.063966</td>\n",
       "      <td>0.068215</td>\n",
       "      <td>-0.053577</td>\n",
       "      <td>-0.053577</td>\n",
       "      <td>-0.039367</td>\n",
       "      <td>-0.010334</td>\n",
       "      <td>0.018378</td>\n",
       "      <td>0.034008</td>\n",
       "      <td>0.034112</td>\n",
       "      <td>-0.030745</td>\n",
       "      <td>-0.037704</td>\n",
       "      <td>0.121611</td>\n",
       "      <td>1.000000</td>\n",
       "      <td>0.019759</td>\n",
       "      <td>NaN</td>\n",
       "    </tr>\n",
       "    <tr>\n",
       "      <th>DP</th>\n",
       "      <td>0.091609</td>\n",
       "      <td>0.111789</td>\n",
       "      <td>-0.117358</td>\n",
       "      <td>-0.117358</td>\n",
       "      <td>-0.110432</td>\n",
       "      <td>0.205318</td>\n",
       "      <td>0.152292</td>\n",
       "      <td>0.053900</td>\n",
       "      <td>0.287493</td>\n",
       "      <td>-0.140013</td>\n",
       "      <td>-0.231042</td>\n",
       "      <td>0.294020</td>\n",
       "      <td>0.019759</td>\n",
       "      <td>1.000000</td>\n",
       "      <td>NaN</td>\n",
       "    </tr>\n",
       "    <tr>\n",
       "      <th>DR</th>\n",
       "      <td>NaN</td>\n",
       "      <td>NaN</td>\n",
       "      <td>NaN</td>\n",
       "      <td>NaN</td>\n",
       "      <td>NaN</td>\n",
       "      <td>NaN</td>\n",
       "      <td>NaN</td>\n",
       "      <td>NaN</td>\n",
       "      <td>NaN</td>\n",
       "      <td>NaN</td>\n",
       "      <td>NaN</td>\n",
       "      <td>NaN</td>\n",
       "      <td>NaN</td>\n",
       "      <td>NaN</td>\n",
       "      <td>NaN</td>\n",
       "    </tr>\n",
       "  </tbody>\n",
       "</table>\n",
       "</div>"
      ],
      "text/plain": [
       "             b         e       LBE        LB        AC        FM        UC  \\\n",
       "b     1.000000  0.945005 -0.020866 -0.020866 -0.038626 -0.133932  0.225278   \n",
       "e     0.945005  1.000000 -0.014913 -0.014913  0.071096 -0.119442  0.386322   \n",
       "LBE  -0.020866 -0.014913  1.000000  1.000000 -0.078498 -0.033444 -0.128646   \n",
       "LB   -0.020866 -0.014913  1.000000  1.000000 -0.078498 -0.033444 -0.128646   \n",
       "AC   -0.038626  0.071096 -0.078498 -0.078498  1.000000  0.053894  0.211749   \n",
       "FM   -0.133932 -0.119442 -0.033444 -0.033444  0.053894  1.000000 -0.036758   \n",
       "UC    0.225278  0.386322 -0.128646 -0.128646  0.211749 -0.036758  1.000000   \n",
       "ASTV -0.125929 -0.065412  0.306830  0.306830 -0.197574 -0.116386 -0.078809   \n",
       "MSTV  0.040201  0.043995 -0.280386 -0.280386  0.191105  0.138004  0.232255   \n",
       "ALTV -0.109352 -0.103469  0.287120  0.287120 -0.344824 -0.072105 -0.246707   \n",
       "MLTV -0.100410 -0.108922 -0.032768 -0.032768 -0.129321  0.020942 -0.107281   \n",
       "DL    0.091591  0.162924 -0.156390 -0.156390 -0.011579  0.076233  0.339267   \n",
       "DS    0.063966  0.068215 -0.053577 -0.053577 -0.039367 -0.010334  0.018378   \n",
       "DP    0.091609  0.111789 -0.117358 -0.117358 -0.110432  0.205318  0.152292   \n",
       "DR         NaN       NaN       NaN       NaN       NaN       NaN       NaN   \n",
       "\n",
       "          ASTV      MSTV      ALTV      MLTV        DL        DS        DP  DR  \n",
       "b    -0.125929  0.040201 -0.109352 -0.100410  0.091591  0.063966  0.091609 NaN  \n",
       "e    -0.065412  0.043995 -0.103469 -0.108922  0.162924  0.068215  0.111789 NaN  \n",
       "LBE   0.306830 -0.280386  0.287120 -0.032768 -0.156390 -0.053577 -0.117358 NaN  \n",
       "LB    0.306830 -0.280386  0.287120 -0.032768 -0.156390 -0.053577 -0.117358 NaN  \n",
       "AC   -0.197574  0.191105 -0.344824 -0.129321 -0.011579 -0.039367 -0.110432 NaN  \n",
       "FM   -0.116386  0.138004 -0.072105  0.020942  0.076233 -0.010334  0.205318 NaN  \n",
       "UC   -0.078809  0.232255 -0.246707 -0.107281  0.339267  0.018378  0.152292 NaN  \n",
       "ASTV  1.000000 -0.430355  0.458727 -0.314620 -0.036615  0.034008  0.053900 NaN  \n",
       "MSTV -0.430355  1.000000 -0.469917  0.073469  0.516778  0.034112  0.287493 NaN  \n",
       "ALTV  0.458727 -0.469917  1.000000 -0.170414 -0.265993 -0.030745 -0.140013 NaN  \n",
       "MLTV -0.314620  0.073469 -0.170414  1.000000 -0.251832 -0.037704 -0.231042 NaN  \n",
       "DL   -0.036615  0.516778 -0.265993 -0.251832  1.000000  0.121611  0.294020 NaN  \n",
       "DS    0.034008  0.034112 -0.030745 -0.037704  0.121611  1.000000  0.019759 NaN  \n",
       "DP    0.053900  0.287493 -0.140013 -0.231042  0.294020  0.019759  1.000000 NaN  \n",
       "DR         NaN       NaN       NaN       NaN       NaN       NaN       NaN NaN  "
      ]
     },
     "execution_count": 77,
     "metadata": {},
     "output_type": "execute_result"
    }
   ],
   "source": [
    "df_raw_measures_no_aggregates.corr()"
   ]
  },
  {
   "cell_type": "markdown",
   "metadata": {},
   "source": [
    "Why is DR NaN?"
   ]
  },
  {
   "cell_type": "code",
   "execution_count": 78,
   "metadata": {},
   "outputs": [],
   "source": [
    "corr_m = df_raw_measures_no_aggregates.corr().fillna(0) # DR is removed since p(K-W)=1"
   ]
  },
  {
   "cell_type": "code",
   "execution_count": 79,
   "metadata": {},
   "outputs": [
    {
     "data": {
      "text/html": [
       "<div>\n",
       "<style scoped>\n",
       "    .dataframe tbody tr th:only-of-type {\n",
       "        vertical-align: middle;\n",
       "    }\n",
       "\n",
       "    .dataframe tbody tr th {\n",
       "        vertical-align: top;\n",
       "    }\n",
       "\n",
       "    .dataframe thead th {\n",
       "        text-align: right;\n",
       "    }\n",
       "</style>\n",
       "<table border=\"1\" class=\"dataframe\">\n",
       "  <thead>\n",
       "    <tr style=\"text-align: right;\">\n",
       "      <th></th>\n",
       "      <th>b</th>\n",
       "      <th>e</th>\n",
       "      <th>LBE</th>\n",
       "      <th>LB</th>\n",
       "      <th>AC</th>\n",
       "      <th>FM</th>\n",
       "      <th>UC</th>\n",
       "      <th>ASTV</th>\n",
       "      <th>MSTV</th>\n",
       "      <th>ALTV</th>\n",
       "      <th>MLTV</th>\n",
       "      <th>DL</th>\n",
       "      <th>DS</th>\n",
       "      <th>DP</th>\n",
       "      <th>DR</th>\n",
       "    </tr>\n",
       "  </thead>\n",
       "  <tbody>\n",
       "    <tr>\n",
       "      <th>b</th>\n",
       "      <td>1.000000</td>\n",
       "      <td>0.945005</td>\n",
       "      <td>-0.020866</td>\n",
       "      <td>-0.020866</td>\n",
       "      <td>-0.038626</td>\n",
       "      <td>-0.133932</td>\n",
       "      <td>0.225278</td>\n",
       "      <td>-0.125929</td>\n",
       "      <td>0.040201</td>\n",
       "      <td>-0.109352</td>\n",
       "      <td>-0.100410</td>\n",
       "      <td>0.091591</td>\n",
       "      <td>0.063966</td>\n",
       "      <td>0.091609</td>\n",
       "      <td>0.0</td>\n",
       "    </tr>\n",
       "    <tr>\n",
       "      <th>e</th>\n",
       "      <td>0.945005</td>\n",
       "      <td>1.000000</td>\n",
       "      <td>-0.014913</td>\n",
       "      <td>-0.014913</td>\n",
       "      <td>0.071096</td>\n",
       "      <td>-0.119442</td>\n",
       "      <td>0.386322</td>\n",
       "      <td>-0.065412</td>\n",
       "      <td>0.043995</td>\n",
       "      <td>-0.103469</td>\n",
       "      <td>-0.108922</td>\n",
       "      <td>0.162924</td>\n",
       "      <td>0.068215</td>\n",
       "      <td>0.111789</td>\n",
       "      <td>0.0</td>\n",
       "    </tr>\n",
       "    <tr>\n",
       "      <th>LBE</th>\n",
       "      <td>-0.020866</td>\n",
       "      <td>-0.014913</td>\n",
       "      <td>1.000000</td>\n",
       "      <td>1.000000</td>\n",
       "      <td>-0.078498</td>\n",
       "      <td>-0.033444</td>\n",
       "      <td>-0.128646</td>\n",
       "      <td>0.306830</td>\n",
       "      <td>-0.280386</td>\n",
       "      <td>0.287120</td>\n",
       "      <td>-0.032768</td>\n",
       "      <td>-0.156390</td>\n",
       "      <td>-0.053577</td>\n",
       "      <td>-0.117358</td>\n",
       "      <td>0.0</td>\n",
       "    </tr>\n",
       "    <tr>\n",
       "      <th>LB</th>\n",
       "      <td>-0.020866</td>\n",
       "      <td>-0.014913</td>\n",
       "      <td>1.000000</td>\n",
       "      <td>1.000000</td>\n",
       "      <td>-0.078498</td>\n",
       "      <td>-0.033444</td>\n",
       "      <td>-0.128646</td>\n",
       "      <td>0.306830</td>\n",
       "      <td>-0.280386</td>\n",
       "      <td>0.287120</td>\n",
       "      <td>-0.032768</td>\n",
       "      <td>-0.156390</td>\n",
       "      <td>-0.053577</td>\n",
       "      <td>-0.117358</td>\n",
       "      <td>0.0</td>\n",
       "    </tr>\n",
       "    <tr>\n",
       "      <th>AC</th>\n",
       "      <td>-0.038626</td>\n",
       "      <td>0.071096</td>\n",
       "      <td>-0.078498</td>\n",
       "      <td>-0.078498</td>\n",
       "      <td>1.000000</td>\n",
       "      <td>0.053894</td>\n",
       "      <td>0.211749</td>\n",
       "      <td>-0.197574</td>\n",
       "      <td>0.191105</td>\n",
       "      <td>-0.344824</td>\n",
       "      <td>-0.129321</td>\n",
       "      <td>-0.011579</td>\n",
       "      <td>-0.039367</td>\n",
       "      <td>-0.110432</td>\n",
       "      <td>0.0</td>\n",
       "    </tr>\n",
       "    <tr>\n",
       "      <th>FM</th>\n",
       "      <td>-0.133932</td>\n",
       "      <td>-0.119442</td>\n",
       "      <td>-0.033444</td>\n",
       "      <td>-0.033444</td>\n",
       "      <td>0.053894</td>\n",
       "      <td>1.000000</td>\n",
       "      <td>-0.036758</td>\n",
       "      <td>-0.116386</td>\n",
       "      <td>0.138004</td>\n",
       "      <td>-0.072105</td>\n",
       "      <td>0.020942</td>\n",
       "      <td>0.076233</td>\n",
       "      <td>-0.010334</td>\n",
       "      <td>0.205318</td>\n",
       "      <td>0.0</td>\n",
       "    </tr>\n",
       "    <tr>\n",
       "      <th>UC</th>\n",
       "      <td>0.225278</td>\n",
       "      <td>0.386322</td>\n",
       "      <td>-0.128646</td>\n",
       "      <td>-0.128646</td>\n",
       "      <td>0.211749</td>\n",
       "      <td>-0.036758</td>\n",
       "      <td>1.000000</td>\n",
       "      <td>-0.078809</td>\n",
       "      <td>0.232255</td>\n",
       "      <td>-0.246707</td>\n",
       "      <td>-0.107281</td>\n",
       "      <td>0.339267</td>\n",
       "      <td>0.018378</td>\n",
       "      <td>0.152292</td>\n",
       "      <td>0.0</td>\n",
       "    </tr>\n",
       "    <tr>\n",
       "      <th>ASTV</th>\n",
       "      <td>-0.125929</td>\n",
       "      <td>-0.065412</td>\n",
       "      <td>0.306830</td>\n",
       "      <td>0.306830</td>\n",
       "      <td>-0.197574</td>\n",
       "      <td>-0.116386</td>\n",
       "      <td>-0.078809</td>\n",
       "      <td>1.000000</td>\n",
       "      <td>-0.430355</td>\n",
       "      <td>0.458727</td>\n",
       "      <td>-0.314620</td>\n",
       "      <td>-0.036615</td>\n",
       "      <td>0.034008</td>\n",
       "      <td>0.053900</td>\n",
       "      <td>0.0</td>\n",
       "    </tr>\n",
       "    <tr>\n",
       "      <th>MSTV</th>\n",
       "      <td>0.040201</td>\n",
       "      <td>0.043995</td>\n",
       "      <td>-0.280386</td>\n",
       "      <td>-0.280386</td>\n",
       "      <td>0.191105</td>\n",
       "      <td>0.138004</td>\n",
       "      <td>0.232255</td>\n",
       "      <td>-0.430355</td>\n",
       "      <td>1.000000</td>\n",
       "      <td>-0.469917</td>\n",
       "      <td>0.073469</td>\n",
       "      <td>0.516778</td>\n",
       "      <td>0.034112</td>\n",
       "      <td>0.287493</td>\n",
       "      <td>0.0</td>\n",
       "    </tr>\n",
       "    <tr>\n",
       "      <th>ALTV</th>\n",
       "      <td>-0.109352</td>\n",
       "      <td>-0.103469</td>\n",
       "      <td>0.287120</td>\n",
       "      <td>0.287120</td>\n",
       "      <td>-0.344824</td>\n",
       "      <td>-0.072105</td>\n",
       "      <td>-0.246707</td>\n",
       "      <td>0.458727</td>\n",
       "      <td>-0.469917</td>\n",
       "      <td>1.000000</td>\n",
       "      <td>-0.170414</td>\n",
       "      <td>-0.265993</td>\n",
       "      <td>-0.030745</td>\n",
       "      <td>-0.140013</td>\n",
       "      <td>0.0</td>\n",
       "    </tr>\n",
       "    <tr>\n",
       "      <th>MLTV</th>\n",
       "      <td>-0.100410</td>\n",
       "      <td>-0.108922</td>\n",
       "      <td>-0.032768</td>\n",
       "      <td>-0.032768</td>\n",
       "      <td>-0.129321</td>\n",
       "      <td>0.020942</td>\n",
       "      <td>-0.107281</td>\n",
       "      <td>-0.314620</td>\n",
       "      <td>0.073469</td>\n",
       "      <td>-0.170414</td>\n",
       "      <td>1.000000</td>\n",
       "      <td>-0.251832</td>\n",
       "      <td>-0.037704</td>\n",
       "      <td>-0.231042</td>\n",
       "      <td>0.0</td>\n",
       "    </tr>\n",
       "    <tr>\n",
       "      <th>DL</th>\n",
       "      <td>0.091591</td>\n",
       "      <td>0.162924</td>\n",
       "      <td>-0.156390</td>\n",
       "      <td>-0.156390</td>\n",
       "      <td>-0.011579</td>\n",
       "      <td>0.076233</td>\n",
       "      <td>0.339267</td>\n",
       "      <td>-0.036615</td>\n",
       "      <td>0.516778</td>\n",
       "      <td>-0.265993</td>\n",
       "      <td>-0.251832</td>\n",
       "      <td>1.000000</td>\n",
       "      <td>0.121611</td>\n",
       "      <td>0.294020</td>\n",
       "      <td>0.0</td>\n",
       "    </tr>\n",
       "    <tr>\n",
       "      <th>DS</th>\n",
       "      <td>0.063966</td>\n",
       "      <td>0.068215</td>\n",
       "      <td>-0.053577</td>\n",
       "      <td>-0.053577</td>\n",
       "      <td>-0.039367</td>\n",
       "      <td>-0.010334</td>\n",
       "      <td>0.018378</td>\n",
       "      <td>0.034008</td>\n",
       "      <td>0.034112</td>\n",
       "      <td>-0.030745</td>\n",
       "      <td>-0.037704</td>\n",
       "      <td>0.121611</td>\n",
       "      <td>1.000000</td>\n",
       "      <td>0.019759</td>\n",
       "      <td>0.0</td>\n",
       "    </tr>\n",
       "    <tr>\n",
       "      <th>DP</th>\n",
       "      <td>0.091609</td>\n",
       "      <td>0.111789</td>\n",
       "      <td>-0.117358</td>\n",
       "      <td>-0.117358</td>\n",
       "      <td>-0.110432</td>\n",
       "      <td>0.205318</td>\n",
       "      <td>0.152292</td>\n",
       "      <td>0.053900</td>\n",
       "      <td>0.287493</td>\n",
       "      <td>-0.140013</td>\n",
       "      <td>-0.231042</td>\n",
       "      <td>0.294020</td>\n",
       "      <td>0.019759</td>\n",
       "      <td>1.000000</td>\n",
       "      <td>0.0</td>\n",
       "    </tr>\n",
       "    <tr>\n",
       "      <th>DR</th>\n",
       "      <td>0.000000</td>\n",
       "      <td>0.000000</td>\n",
       "      <td>0.000000</td>\n",
       "      <td>0.000000</td>\n",
       "      <td>0.000000</td>\n",
       "      <td>0.000000</td>\n",
       "      <td>0.000000</td>\n",
       "      <td>0.000000</td>\n",
       "      <td>0.000000</td>\n",
       "      <td>0.000000</td>\n",
       "      <td>0.000000</td>\n",
       "      <td>0.000000</td>\n",
       "      <td>0.000000</td>\n",
       "      <td>0.000000</td>\n",
       "      <td>0.0</td>\n",
       "    </tr>\n",
       "  </tbody>\n",
       "</table>\n",
       "</div>"
      ],
      "text/plain": [
       "             b         e       LBE        LB        AC        FM        UC  \\\n",
       "b     1.000000  0.945005 -0.020866 -0.020866 -0.038626 -0.133932  0.225278   \n",
       "e     0.945005  1.000000 -0.014913 -0.014913  0.071096 -0.119442  0.386322   \n",
       "LBE  -0.020866 -0.014913  1.000000  1.000000 -0.078498 -0.033444 -0.128646   \n",
       "LB   -0.020866 -0.014913  1.000000  1.000000 -0.078498 -0.033444 -0.128646   \n",
       "AC   -0.038626  0.071096 -0.078498 -0.078498  1.000000  0.053894  0.211749   \n",
       "FM   -0.133932 -0.119442 -0.033444 -0.033444  0.053894  1.000000 -0.036758   \n",
       "UC    0.225278  0.386322 -0.128646 -0.128646  0.211749 -0.036758  1.000000   \n",
       "ASTV -0.125929 -0.065412  0.306830  0.306830 -0.197574 -0.116386 -0.078809   \n",
       "MSTV  0.040201  0.043995 -0.280386 -0.280386  0.191105  0.138004  0.232255   \n",
       "ALTV -0.109352 -0.103469  0.287120  0.287120 -0.344824 -0.072105 -0.246707   \n",
       "MLTV -0.100410 -0.108922 -0.032768 -0.032768 -0.129321  0.020942 -0.107281   \n",
       "DL    0.091591  0.162924 -0.156390 -0.156390 -0.011579  0.076233  0.339267   \n",
       "DS    0.063966  0.068215 -0.053577 -0.053577 -0.039367 -0.010334  0.018378   \n",
       "DP    0.091609  0.111789 -0.117358 -0.117358 -0.110432  0.205318  0.152292   \n",
       "DR    0.000000  0.000000  0.000000  0.000000  0.000000  0.000000  0.000000   \n",
       "\n",
       "          ASTV      MSTV      ALTV      MLTV        DL        DS        DP  \\\n",
       "b    -0.125929  0.040201 -0.109352 -0.100410  0.091591  0.063966  0.091609   \n",
       "e    -0.065412  0.043995 -0.103469 -0.108922  0.162924  0.068215  0.111789   \n",
       "LBE   0.306830 -0.280386  0.287120 -0.032768 -0.156390 -0.053577 -0.117358   \n",
       "LB    0.306830 -0.280386  0.287120 -0.032768 -0.156390 -0.053577 -0.117358   \n",
       "AC   -0.197574  0.191105 -0.344824 -0.129321 -0.011579 -0.039367 -0.110432   \n",
       "FM   -0.116386  0.138004 -0.072105  0.020942  0.076233 -0.010334  0.205318   \n",
       "UC   -0.078809  0.232255 -0.246707 -0.107281  0.339267  0.018378  0.152292   \n",
       "ASTV  1.000000 -0.430355  0.458727 -0.314620 -0.036615  0.034008  0.053900   \n",
       "MSTV -0.430355  1.000000 -0.469917  0.073469  0.516778  0.034112  0.287493   \n",
       "ALTV  0.458727 -0.469917  1.000000 -0.170414 -0.265993 -0.030745 -0.140013   \n",
       "MLTV -0.314620  0.073469 -0.170414  1.000000 -0.251832 -0.037704 -0.231042   \n",
       "DL   -0.036615  0.516778 -0.265993 -0.251832  1.000000  0.121611  0.294020   \n",
       "DS    0.034008  0.034112 -0.030745 -0.037704  0.121611  1.000000  0.019759   \n",
       "DP    0.053900  0.287493 -0.140013 -0.231042  0.294020  0.019759  1.000000   \n",
       "DR    0.000000  0.000000  0.000000  0.000000  0.000000  0.000000  0.000000   \n",
       "\n",
       "       DR  \n",
       "b     0.0  \n",
       "e     0.0  \n",
       "LBE   0.0  \n",
       "LB    0.0  \n",
       "AC    0.0  \n",
       "FM    0.0  \n",
       "UC    0.0  \n",
       "ASTV  0.0  \n",
       "MSTV  0.0  \n",
       "ALTV  0.0  \n",
       "MLTV  0.0  \n",
       "DL    0.0  \n",
       "DS    0.0  \n",
       "DP    0.0  \n",
       "DR    0.0  "
      ]
     },
     "execution_count": 79,
     "metadata": {},
     "output_type": "execute_result"
    }
   ],
   "source": [
    "corr_m"
   ]
  },
  {
   "cell_type": "code",
   "execution_count": 80,
   "metadata": {},
   "outputs": [
    {
     "data": {
      "text/plain": [
       "False"
      ]
     },
     "execution_count": 80,
     "metadata": {},
     "output_type": "execute_result"
    }
   ],
   "source": [
    "numeric_df = df_raw_measures_no_aggregates.apply(pd.to_numeric, errors='coerce')\n",
    "numeric_df.isnull().values.any()"
   ]
  },
  {
   "cell_type": "code",
   "execution_count": 81,
   "metadata": {},
   "outputs": [
    {
     "data": {
      "image/png": "[encoded data removed]",
      "text/plain": [
       "<Figure size 1000x1000 with 4 Axes>"
      ]
     },
     "metadata": {},
     "output_type": "display_data"
    }
   ],
   "source": [
    "import seaborn as sns\n",
    "sns_plot = sns.clustermap(corr_m, cmap=\"rocket_r\")"
   ]
  },
  {
   "cell_type": "code",
   "execution_count": null,
   "metadata": {},
   "outputs": [],
   "source": [
    "#DR will be dropped"
   ]
  },
  {
   "cell_type": "code",
   "execution_count": 82,
   "metadata": {},
   "outputs": [],
   "source": [
    "measure_columns_no_aggregates = [\"b\",\"e\",\"LBE\",\"LB\",\"AC\",\"FM\",\"UC\",\"ASTV\",\"MSTV\",\"ALTV\",\"MLTV\",\"DL\",\"DS\",\"DP\"]\n",
    "df_raw_measures_no_aggregates = df_raw.loc[:,measure_columns_no_aggregates]"
   ]
  },
  {
   "cell_type": "code",
   "execution_count": null,
   "metadata": {},
   "outputs": [],
   "source": [
    "target_col = [\"\"]"
   ]
  },
  {
   "cell_type": "code",
   "execution_count": 84,
   "metadata": {},
   "outputs": [],
   "source": [
    "import scipy as sp \n",
    "\n",
    "norm_df=sp.stats.zscore(df_raw_measures_no_aggregates)"
   ]
  },
  {
   "cell_type": "code",
   "execution_count": 85,
   "metadata": {},
   "outputs": [
    {
     "data": {
      "text/plain": [
       "<Axes: >"
      ]
     },
     "execution_count": 85,
     "metadata": {},
     "output_type": "execute_result"
    },
    {
     "data": {
      "image/png": "[encoded data removed]",
      "text/plain": [
       "<Figure size 640x480 with 1 Axes>"
      ]
     },
     "metadata": {},
     "output_type": "display_data"
    }
   ],
   "source": [
    "sns.boxplot(norm_df)"
   ]
  },
  {
   "cell_type": "code",
   "execution_count": 97,
   "metadata": {},
   "outputs": [],
   "source": [
    "X=df_raw_measures\n",
    "y = df_raw.loc[:,'NSP'].astype('uint8')"
   ]
  },
  {
   "cell_type": "code",
   "execution_count": 100,
   "metadata": {},
   "outputs": [],
   "source": [
    "from sklearn.preprocessing import LabelEncoder\n",
    "le = LabelEncoder()\n",
    "y_encode = le.fit_transform(y)"
   ]
  },
  {
   "cell_type": "code",
   "execution_count": 101,
   "metadata": {},
   "outputs": [
    {
     "name": "stdout",
     "output_type": "stream",
     "text": [
      "[0]\tvalidation_0-mlogloss:0.76850\n",
      "[1]\tvalidation_0-mlogloss:0.57662\n",
      "[2]\tvalidation_0-mlogloss:0.45364\n",
      "[3]\tvalidation_0-mlogloss:0.36565\n",
      "[4]\tvalidation_0-mlogloss:0.30322\n",
      "[5]\tvalidation_0-mlogloss:0.25676\n",
      "[6]\tvalidation_0-mlogloss:0.22306\n",
      "[7]\tvalidation_0-mlogloss:0.19808\n",
      "[8]\tvalidation_0-mlogloss:0.18186\n",
      "[9]\tvalidation_0-mlogloss:0.16931\n",
      "[10]\tvalidation_0-mlogloss:0.15878\n"
     ]
    },
    {
     "name": "stdout",
     "output_type": "stream",
     "text": [
      "[11]\tvalidation_0-mlogloss:0.15100\n",
      "[12]\tvalidation_0-mlogloss:0.14574\n",
      "[13]\tvalidation_0-mlogloss:0.14169\n",
      "[14]\tvalidation_0-mlogloss:0.13859\n",
      "[15]\tvalidation_0-mlogloss:0.13431\n",
      "[16]\tvalidation_0-mlogloss:0.13293\n",
      "[17]\tvalidation_0-mlogloss:0.13153\n",
      "[18]\tvalidation_0-mlogloss:0.13085\n",
      "[19]\tvalidation_0-mlogloss:0.12923\n",
      "[20]\tvalidation_0-mlogloss:0.12967\n",
      "[21]\tvalidation_0-mlogloss:0.12929\n"
     ]
    },
    {
     "data": {
      "text/html": [
       "<style>#sk-container-id-1 {color: black;}#sk-container-id-1 pre{padding: 0;}#sk-container-id-1 div.sk-toggleable {background-color: white;}#sk-container-id-1 label.sk-toggleable__label {cursor: pointer;display: block;width: 100%;margin-bottom: 0;padding: 0.3em;box-sizing: border-box;text-align: center;}#sk-container-id-1 label.sk-toggleable__label-arrow:before {content: \"▸\";float: left;margin-right: 0.25em;color: #696969;}#sk-container-id-1 label.sk-toggleable__label-arrow:hover:before {color: black;}#sk-container-id-1 div.sk-estimator:hover label.sk-toggleable__label-arrow:before {color: black;}#sk-container-id-1 div.sk-toggleable__content {max-height: 0;max-width: 0;overflow: hidden;text-align: left;background-color: #f0f8ff;}#sk-container-id-1 div.sk-toggleable__content pre {margin: 0.2em;color: black;border-radius: 0.25em;background-color: #f0f8ff;}#sk-container-id-1 input.sk-toggleable__control:checked~div.sk-toggleable__content {max-height: 200px;max-width: 100%;overflow: auto;}#sk-container-id-1 input.sk-toggleable__control:checked~label.sk-toggleable__label-arrow:before {content: \"▾\";}#sk-container-id-1 div.sk-estimator input.sk-toggleable__control:checked~label.sk-toggleable__label {background-color: #d4ebff;}#sk-container-id-1 div.sk-label input.sk-toggleable__control:checked~label.sk-toggleable__label {background-color: #d4ebff;}#sk-container-id-1 input.sk-hidden--visually {border: 0;clip: rect(1px 1px 1px 1px);clip: rect(1px, 1px, 1px, 1px);height: 1px;margin: -1px;overflow: hidden;padding: 0;position: absolute;width: 1px;}#sk-container-id-1 div.sk-estimator {font-family: monospace;background-color: #f0f8ff;border: 1px dotted black;border-radius: 0.25em;box-sizing: border-box;margin-bottom: 0.5em;}#sk-container-id-1 div.sk-estimator:hover {background-color: #d4ebff;}#sk-container-id-1 div.sk-parallel-item::after {content: \"\";width: 100%;border-bottom: 1px solid gray;flex-grow: 1;}#sk-container-id-1 div.sk-label:hover label.sk-toggleable__label {background-color: #d4ebff;}#sk-container-id-1 div.sk-serial::before {content: \"\";position: absolute;border-left: 1px solid gray;box-sizing: border-box;top: 0;bottom: 0;left: 50%;z-index: 0;}#sk-container-id-1 div.sk-serial {display: flex;flex-direction: column;align-items: center;background-color: white;padding-right: 0.2em;padding-left: 0.2em;position: relative;}#sk-container-id-1 div.sk-item {position: relative;z-index: 1;}#sk-container-id-1 div.sk-parallel {display: flex;align-items: stretch;justify-content: center;background-color: white;position: relative;}#sk-container-id-1 div.sk-item::before, #sk-container-id-1 div.sk-parallel-item::before {content: \"\";position: absolute;border-left: 1px solid gray;box-sizing: border-box;top: 0;bottom: 0;left: 50%;z-index: -1;}#sk-container-id-1 div.sk-parallel-item {display: flex;flex-direction: column;z-index: 1;position: relative;background-color: white;}#sk-container-id-1 div.sk-parallel-item:first-child::after {align-self: flex-end;width: 50%;}#sk-container-id-1 div.sk-parallel-item:last-child::after {align-self: flex-start;width: 50%;}#sk-container-id-1 div.sk-parallel-item:only-child::after {width: 0;}#sk-container-id-1 div.sk-dashed-wrapped {border: 1px dashed gray;margin: 0 0.4em 0.5em 0.4em;box-sizing: border-box;padding-bottom: 0.4em;background-color: white;}#sk-container-id-1 div.sk-label label {font-family: monospace;font-weight: bold;display: inline-block;line-height: 1.2em;}#sk-container-id-1 div.sk-label-container {text-align: center;}#sk-container-id-1 div.sk-container {/* jupyter's `normalize.less` sets `[hidden] { display: none; }` but bootstrap.min.css set `[hidden] { display: none !important; }` so we also need the `!important` here to be able to override the default hidden behavior on the sphinx rendered scikit-learn.org. See: https://github.com/scikit-learn/scikit-learn/issues/21755 */display: inline-block !important;position: relative;}#sk-container-id-1 div.sk-text-repr-fallback {display: none;}</style><div id=\"sk-container-id-1\" class=\"sk-top-container\"><div class=\"sk-text-repr-fallback\"><pre>XGBClassifier(base_score=None, booster=None, callbacks=None,\n",
       "              colsample_bylevel=None, colsample_bynode=None,\n",
       "              colsample_bytree=None, device=None, early_stopping_rounds=2,\n",
       "              enable_categorical=False, eval_metric=None, feature_types=None,\n",
       "              gamma=None, grow_policy=None, importance_type=None,\n",
       "              interaction_constraints=None, learning_rate=None, max_bin=None,\n",
       "              max_cat_threshold=None, max_cat_to_onehot=None,\n",
       "              max_delta_step=None, max_depth=None, max_leaves=None,\n",
       "              min_child_weight=None, missing=nan, monotone_constraints=None,\n",
       "              multi_strategy=None, n_estimators=None, n_jobs=None,\n",
       "              num_parallel_tree=None, objective=&#x27;multi:softprob&#x27;, ...)</pre><b>In a Jupyter environment, please rerun this cell to show the HTML representation or trust the notebook. <br />On GitHub, the HTML representation is unable to render, please try loading this page with nbviewer.org.</b></div><div class=\"sk-container\" hidden><div class=\"sk-item\"><div class=\"sk-estimator sk-toggleable\"><input class=\"sk-toggleable__control sk-hidden--visually\" id=\"sk-estimator-id-1\" type=\"checkbox\" checked><label for=\"sk-estimator-id-1\" class=\"sk-toggleable__label sk-toggleable__label-arrow\">XGBClassifier</label><div class=\"sk-toggleable__content\"><pre>XGBClassifier(base_score=None, booster=None, callbacks=None,\n",
       "              colsample_bylevel=None, colsample_bynode=None,\n",
       "              colsample_bytree=None, device=None, early_stopping_rounds=2,\n",
       "              enable_categorical=False, eval_metric=None, feature_types=None,\n",
       "              gamma=None, grow_policy=None, importance_type=None,\n",
       "              interaction_constraints=None, learning_rate=None, max_bin=None,\n",
       "              max_cat_threshold=None, max_cat_to_onehot=None,\n",
       "              max_delta_step=None, max_depth=None, max_leaves=None,\n",
       "              min_child_weight=None, missing=nan, monotone_constraints=None,\n",
       "              multi_strategy=None, n_estimators=None, n_jobs=None,\n",
       "              num_parallel_tree=None, objective=&#x27;multi:softprob&#x27;, ...)</pre></div></div></div></div></div>"
      ],
      "text/plain": [
       "XGBClassifier(base_score=None, booster=None, callbacks=None,\n",
       "              colsample_bylevel=None, colsample_bynode=None,\n",
       "              colsample_bytree=None, device=None, early_stopping_rounds=2,\n",
       "              enable_categorical=False, eval_metric=None, feature_types=None,\n",
       "              gamma=None, grow_policy=None, importance_type=None,\n",
       "              interaction_constraints=None, learning_rate=None, max_bin=None,\n",
       "              max_cat_threshold=None, max_cat_to_onehot=None,\n",
       "              max_delta_step=None, max_depth=None, max_leaves=None,\n",
       "              min_child_weight=None, missing=nan, monotone_constraints=None,\n",
       "              multi_strategy=None, n_estimators=None, n_jobs=None,\n",
       "              num_parallel_tree=None, objective='multi:softprob', ...)"
      ]
     },
     "execution_count": 101,
     "metadata": {},
     "output_type": "execute_result"
    }
   ],
   "source": [
    "import xgboost as xgb\n",
    "from sklearn.model_selection import train_test_split\n",
    "\n",
    "X_train, X_test, y_train, y_test = train_test_split(X, y_encode, stratify=y, random_state=94)\n",
    "\n",
    "# Use \"hist\" for constructing the trees, with early stopping enabled.\n",
    "clf = xgb.XGBClassifier(tree_method=\"hist\", early_stopping_rounds=2)\n",
    "clf.fit(X_train, y_train, eval_set=[(X_test, y_test)])\n"
   ]
  },
  {
   "cell_type": "code",
   "execution_count": null,
   "metadata": {},
   "outputs": [],
   "source": [
    "# itera su algoritmi, kfold, hyperparam search "
   ]
  },
  {
   "cell_type": "code",
   "execution_count": 102,
   "metadata": {},
   "outputs": [
    {
     "data": {
      "text/plain": [
       "array([0, 1, 0, 0, 0, 0, 0, 0, 0, 0, 1, 0, 0, 0, 0, 0, 0, 0, 0, 0, 0, 0,\n",
       "       0, 0, 1, 0, 0, 1, 0, 0, 0, 0, 0, 0, 0, 0, 0, 0, 0, 0, 0, 0, 0, 0,\n",
       "       0, 0, 0, 0, 0, 0, 0, 0, 0, 0, 1, 0, 0, 0, 2, 0, 0, 0, 0, 0, 0, 0,\n",
       "       2, 0, 0, 0, 0, 0, 0, 0, 0, 2, 0, 0, 1, 0, 0, 0, 0, 0, 0, 0, 1, 0,\n",
       "       0, 0, 0, 0, 0, 0, 1, 0, 0, 1, 0, 1, 0, 0, 0, 1, 0, 0, 0, 0, 0, 0,\n",
       "       0, 0, 0, 2, 2, 0, 0, 0, 0, 0, 0, 0, 0, 0, 0, 1, 1, 2, 0, 1, 0, 0,\n",
       "       0, 2, 0, 1, 1, 0, 2, 0, 0, 0, 0, 0, 1, 0, 0, 1, 1, 0, 1, 0, 0, 0,\n",
       "       0, 2, 0, 2, 1, 0, 0, 0, 2, 0, 1, 0, 0, 0, 0, 0, 0, 2, 0, 0, 0, 0,\n",
       "       0, 0, 0, 0, 1, 1, 0, 0, 0, 0, 0, 0, 0, 0, 0, 0, 1, 0, 1, 0, 0, 0,\n",
       "       0, 0, 0, 0, 0, 1, 0, 0, 0, 2, 0, 0, 0, 0, 0, 0, 0, 0, 0, 0, 0, 2,\n",
       "       0, 0, 0, 0, 1, 0, 0, 0, 0, 0, 0, 0, 0, 0, 0, 0, 2, 1, 0, 0, 0, 2,\n",
       "       0, 0, 1, 1, 0, 0, 1, 0, 0, 0, 0, 2, 0, 0, 0, 0, 0, 0, 0, 0, 0, 1,\n",
       "       2, 0, 0, 0, 0, 0, 0, 0, 0, 0, 0, 0, 0, 0, 0, 0, 2, 0, 1, 2, 1, 0,\n",
       "       0, 0, 0, 0, 0, 0, 0, 2, 0, 0, 2, 2, 0, 0, 1, 0, 0, 0, 0, 0, 0, 0,\n",
       "       0, 0, 0, 1, 0, 0, 1, 0, 0, 0, 0, 0, 0, 2, 0, 0, 0, 0, 2, 0, 0, 0,\n",
       "       0, 2, 0, 1, 0, 0, 2, 0, 0, 0, 0, 0, 0, 0, 1, 0, 0, 0, 0, 1, 0, 1,\n",
       "       0, 0, 0, 0, 0, 0, 0, 0, 0, 0, 0, 0, 0, 0, 0, 0, 0, 1, 0, 0, 0, 0,\n",
       "       1, 0, 0, 0, 0, 0, 0, 1, 2, 2, 0, 0, 0, 0, 1, 0, 0, 0, 0, 0, 0, 0,\n",
       "       0, 1, 1, 2, 0, 0, 0, 1, 1, 2, 2, 0, 1, 0, 0, 0, 0, 1, 0, 2, 0, 0,\n",
       "       0, 0, 0, 1, 2, 0, 0, 0, 0, 0, 0, 0, 0, 1, 0, 0, 0, 0, 0, 0, 1, 0,\n",
       "       0, 1, 0, 2, 0, 0, 0, 1, 0, 0, 0, 0, 1, 0, 0, 0, 0, 1, 0, 0, 2, 1,\n",
       "       0, 0, 0, 0, 0, 0, 0, 0, 0, 0, 0, 0, 2, 0, 1, 0, 0, 0, 1, 1, 0, 0,\n",
       "       0, 0, 0, 0, 0, 0, 0, 0, 0, 0, 0, 1, 0, 0, 0, 0, 2, 0, 2, 0, 0, 0,\n",
       "       2, 0, 0, 0, 0, 0, 1, 0, 0, 0, 0, 0, 1, 0, 1, 0, 0, 1, 0, 0, 0, 0,\n",
       "       0, 0, 0, 1], dtype=int64)"
      ]
     },
     "execution_count": 102,
     "metadata": {},
     "output_type": "execute_result"
    }
   ],
   "source": [
    "clf.predict(X_test)"
   ]
  },
  {
   "cell_type": "code",
   "execution_count": null,
   "metadata": {},
   "outputs": [],
   "source": []
  }
 ],
 "metadata": {
  "kernelspec": {
   "display_name": ".venv",
   "language": "python",
   "name": "python3"
  },
  "language_info": {
   "codemirror_mode": {
    "name": "ipython",
    "version": 3
   },
   "file_extension": ".py",
   "mimetype": "text/x-python",
   "name": "python",
   "nbconvert_exporter": "python",
   "pygments_lexer": "ipython3",
   "version": "3.8.0"
  }
 },
 "nbformat": 4,
 "nbformat_minor": 2
}
