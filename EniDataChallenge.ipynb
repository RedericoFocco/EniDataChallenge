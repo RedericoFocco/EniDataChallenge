{
 "cells": [
  {
   "cell_type": "markdown",
   "metadata": {},
   "source": [
    "Imports"
   ]
  },
  {
   "cell_type": "code",
   "execution_count": 64,
   "metadata": {},
   "outputs": [],
   "source": [
    "import pandas as pd"
   ]
  },
  {
   "cell_type": "markdown",
   "metadata": {},
   "source": [
    "Read File"
   ]
  },
  {
   "cell_type": "code",
   "execution_count": 65,
   "metadata": {},
   "outputs": [],
   "source": [
    "file_path='./data/CTG.xls'\n",
    "df_data_clean = pd.read_excel(file_path,'Data')\n",
    "df_raw = pd.read_excel(file_path,'Raw Data',skiprows=[1,2])"
   ]
  },
  {
   "cell_type": "code",
   "execution_count": 66,
   "metadata": {},
   "outputs": [
    {
     "data": {
      "text/plain": [
       "False"
      ]
     },
     "execution_count": 66,
     "metadata": {},
     "output_type": "execute_result"
    }
   ],
   "source": [
    "df_raw.columns.equals(df_data_clean.columns)"
   ]
  },
  {
   "cell_type": "code",
   "execution_count": 67,
   "metadata": {},
   "outputs": [
    {
     "data": {
      "text/plain": [
       "Index(['FileName', 'Date', 'SegFile', 'b', 'e', 'LBE', 'LB', 'AC', 'FM', 'UC',\n",
       "       'ASTV', 'MSTV', 'ALTV', 'MLTV', 'DL', 'DS', 'DP', 'DR', 'Width', 'Min',\n",
       "       'Max', 'Nmax', 'Nzeros', 'Mode', 'Mean', 'Median', 'Variance',\n",
       "       'Tendency', 'A', 'B', 'C', 'D', 'E', 'AD', 'DE', 'LD', 'FS', 'SUSP',\n",
       "       'CLASS', 'NSP'],\n",
       "      dtype='object')"
      ]
     },
     "execution_count": 67,
     "metadata": {},
     "output_type": "execute_result"
    }
   ],
   "source": [
    "df_raw.columns"
   ]
  },
  {
   "cell_type": "markdown",
   "metadata": {},
   "source": [
    "Data Cleaning"
   ]
  },
  {
   "cell_type": "code",
   "execution_count": 68,
   "metadata": {},
   "outputs": [
    {
     "data": {
      "text/plain": [
       "True"
      ]
     },
     "execution_count": 68,
     "metadata": {},
     "output_type": "execute_result"
    }
   ],
   "source": [
    "df_raw.isnull().values.any() #faster than isna or sum"
   ]
  },
  {
   "cell_type": "code",
   "execution_count": 69,
   "metadata": {},
   "outputs": [
    {
     "data": {
      "text/plain": [
       "['FileName',\n",
       " 'Date',\n",
       " 'SegFile',\n",
       " 'b',\n",
       " 'e',\n",
       " 'LBE',\n",
       " 'LB',\n",
       " 'AC',\n",
       " 'FM',\n",
       " 'UC',\n",
       " 'ASTV',\n",
       " 'MSTV',\n",
       " 'ALTV',\n",
       " 'MLTV',\n",
       " 'DL',\n",
       " 'DS',\n",
       " 'DP',\n",
       " 'DR',\n",
       " 'Width',\n",
       " 'Min',\n",
       " 'Max',\n",
       " 'Nmax',\n",
       " 'Nzeros',\n",
       " 'Mode',\n",
       " 'Mean',\n",
       " 'Median',\n",
       " 'Variance',\n",
       " 'Tendency',\n",
       " 'A',\n",
       " 'B',\n",
       " 'C',\n",
       " 'D',\n",
       " 'E',\n",
       " 'AD',\n",
       " 'DE',\n",
       " 'LD',\n",
       " 'FS',\n",
       " 'SUSP',\n",
       " 'CLASS',\n",
       " 'NSP']"
      ]
     },
     "execution_count": 69,
     "metadata": {},
     "output_type": "execute_result"
    }
   ],
   "source": [
    "df_raw.columns[df_raw.isnull().any()].tolist()"
   ]
  },
  {
   "cell_type": "code",
   "execution_count": 70,
   "metadata": {},
   "outputs": [
    {
     "data": {
      "text/plain": [
       "0         Fmcs_1.txt\n",
       "1         Fmcs_1.txt\n",
       "2         Fmcs_1.txt\n",
       "3         Fmcs_1.txt\n",
       "4         Fmcs_2.txt\n",
       "            ...     \n",
       "2123    S8001045.dsp\n",
       "2124    S8001045.dsp\n",
       "2125             NaN\n",
       "2126             NaN\n",
       "2127             NaN\n",
       "Name: FileName, Length: 2128, dtype: object"
      ]
     },
     "execution_count": 70,
     "metadata": {},
     "output_type": "execute_result"
    }
   ],
   "source": [
    "df_raw['FileName']"
   ]
  },
  {
   "cell_type": "code",
   "execution_count": 71,
   "metadata": {},
   "outputs": [],
   "source": [
    "df_raw = df_raw.iloc[:-3,:]"
   ]
  },
  {
   "cell_type": "code",
   "execution_count": 72,
   "metadata": {},
   "outputs": [
    {
     "data": {
      "text/plain": [
       "False"
      ]
     },
     "execution_count": 72,
     "metadata": {},
     "output_type": "execute_result"
    }
   ],
   "source": [
    "df_raw['FileName'].isnull().any()"
   ]
  },
  {
   "cell_type": "code",
   "execution_count": 73,
   "metadata": {},
   "outputs": [
    {
     "data": {
      "text/plain": [
       "False"
      ]
     },
     "execution_count": 73,
     "metadata": {},
     "output_type": "execute_result"
    }
   ],
   "source": [
    "df_raw.isnull().values.any() #faster than isna or sum"
   ]
  },
  {
   "cell_type": "markdown",
   "metadata": {},
   "source": [
    "Data analysis"
   ]
  },
  {
   "cell_type": "code",
   "execution_count": 114,
   "metadata": {},
   "outputs": [],
   "source": [
    "measure_columns = [\"b\",\"e\",\"LBE\",\"LB\",\"AC\",\"FM\",\"UC\",\"ASTV\",\"MSTV\",\"ALTV\",\"MLTV\",\"DL\",\"DS\",\"DP\",\"Width\",\"Min\",\"Max\",\"Nmax\",\"Nzeros\",\"Mode\",\"Mean\",\"Median\",\"Variance\",\"Tendency\"] # no DR\n",
    "measure_columns_no_aggregates = [\"b\",\"e\",\"LBE\",\"LB\",\"AC\",\"FM\",\"UC\",\"ASTV\",\"MSTV\",\"ALTV\",\"MLTV\",\"DL\",\"DS\",\"DP\"] # no DR\n",
    "df_raw_measures = df_raw.loc[:,measure_columns]\n",
    "df_raw_measures_no_aggregates = df_raw.loc[:,measure_columns_no_aggregates]"
   ]
  },
  {
   "cell_type": "code",
   "execution_count": 75,
   "metadata": {},
   "outputs": [
    {
     "name": "stdout",
     "output_type": "stream",
     "text": [
      "           b       e    LBE     LB   AC   FM    UC  ASTV  MSTV  ALTV  MLTV  \\\n",
      "0        5.0   632.0  132.0  132.0  4.0  0.0   4.0  17.0   2.1   0.0  10.4   \n",
      "1      177.0   779.0  133.0  133.0  2.0  0.0   5.0  16.0   2.1   0.0  13.4   \n",
      "2      411.0  1192.0  134.0  134.0  2.0  0.0   6.0  16.0   2.4   0.0  23.0   \n",
      "3      533.0  1147.0  132.0  132.0  4.0  0.0   5.0  16.0   2.4   0.0  19.9   \n",
      "4        0.0   953.0  134.0  134.0  1.0  0.0  10.0  26.0   5.9   0.0   0.0   \n",
      "...      ...     ...    ...    ...  ...  ...   ...   ...   ...   ...   ...   \n",
      "2120  2059.0  2867.0  140.0  140.0  0.0  0.0   6.0  79.0   0.2  25.0   7.2   \n",
      "2121  1576.0  2867.0  140.0  140.0  1.0  0.0   9.0  78.0   0.4  22.0   7.1   \n",
      "2122  1576.0  2596.0  140.0  140.0  1.0  0.0   7.0  79.0   0.4  20.0   6.1   \n",
      "2123  1576.0  3049.0  140.0  140.0  1.0  0.0   9.0  78.0   0.4  27.0   7.0   \n",
      "2124  2796.0  3415.0  142.0  142.0  1.0  1.0   5.0  74.0   0.4  36.0   5.0   \n",
      "\n",
      "       DL   DS   DP   DR  \n",
      "0     2.0  0.0  0.0  0.0  \n",
      "1     2.0  0.0  0.0  0.0  \n",
      "2     2.0  0.0  0.0  0.0  \n",
      "3     0.0  0.0  0.0  0.0  \n",
      "4     9.0  0.0  2.0  0.0  \n",
      "...   ...  ...  ...  ...  \n",
      "2120  0.0  0.0  0.0  0.0  \n",
      "2121  0.0  0.0  0.0  0.0  \n",
      "2122  0.0  0.0  0.0  0.0  \n",
      "2123  0.0  0.0  0.0  0.0  \n",
      "2124  0.0  0.0  0.0  0.0  \n",
      "\n",
      "[2125 rows x 15 columns]\n"
     ]
    }
   ],
   "source": [
    "print(df_raw_measures_no_aggregates)"
   ]
  },
  {
   "cell_type": "code",
   "execution_count": 76,
   "metadata": {},
   "outputs": [
    {
     "data": {
      "text/plain": [
       "True"
      ]
     },
     "execution_count": 76,
     "metadata": {},
     "output_type": "execute_result"
    }
   ],
   "source": [
    "(df_raw_measures_no_aggregates[\"DR\"]==0).all()"
   ]
  },
  {
   "cell_type": "code",
   "execution_count": 77,
   "metadata": {},
   "outputs": [
    {
     "data": {
      "text/html": [
       "<div>\n",
       "<style scoped>\n",
       "    .dataframe tbody tr th:only-of-type {\n",
       "        vertical-align: middle;\n",
       "    }\n",
       "\n",
       "    .dataframe tbody tr th {\n",
       "        vertical-align: top;\n",
       "    }\n",
       "\n",
       "    .dataframe thead th {\n",
       "        text-align: right;\n",
       "    }\n",
       "</style>\n",
       "<table border=\"1\" class=\"dataframe\">\n",
       "  <thead>\n",
       "    <tr style=\"text-align: right;\">\n",
       "      <th></th>\n",
       "      <th>b</th>\n",
       "      <th>e</th>\n",
       "      <th>LBE</th>\n",
       "      <th>LB</th>\n",
       "      <th>AC</th>\n",
       "      <th>FM</th>\n",
       "      <th>UC</th>\n",
       "      <th>ASTV</th>\n",
       "      <th>MSTV</th>\n",
       "      <th>ALTV</th>\n",
       "      <th>MLTV</th>\n",
       "      <th>DL</th>\n",
       "      <th>DS</th>\n",
       "      <th>DP</th>\n",
       "      <th>DR</th>\n",
       "    </tr>\n",
       "  </thead>\n",
       "  <tbody>\n",
       "    <tr>\n",
       "      <th>b</th>\n",
       "      <td>1.000000</td>\n",
       "      <td>0.945005</td>\n",
       "      <td>-0.020866</td>\n",
       "      <td>-0.020866</td>\n",
       "      <td>-0.038626</td>\n",
       "      <td>-0.133932</td>\n",
       "      <td>0.225278</td>\n",
       "      <td>-0.125929</td>\n",
       "      <td>0.040201</td>\n",
       "      <td>-0.109352</td>\n",
       "      <td>-0.100410</td>\n",
       "      <td>0.091591</td>\n",
       "      <td>0.063966</td>\n",
       "      <td>0.091609</td>\n",
       "      <td>NaN</td>\n",
       "    </tr>\n",
       "    <tr>\n",
       "      <th>e</th>\n",
       "      <td>0.945005</td>\n",
       "      <td>1.000000</td>\n",
       "      <td>-0.014913</td>\n",
       "      <td>-0.014913</td>\n",
       "      <td>0.071096</td>\n",
       "      <td>-0.119442</td>\n",
       "      <td>0.386322</td>\n",
       "      <td>-0.065412</td>\n",
       "      <td>0.043995</td>\n",
       "      <td>-0.103469</td>\n",
       "      <td>-0.108922</td>\n",
       "      <td>0.162924</td>\n",
       "      <td>0.068215</td>\n",
       "      <td>0.111789</td>\n",
       "      <td>NaN</td>\n",
       "    </tr>\n",
       "    <tr>\n",
       "      <th>LBE</th>\n",
       "      <td>-0.020866</td>\n",
       "      <td>-0.014913</td>\n",
       "      <td>1.000000</td>\n",
       "      <td>1.000000</td>\n",
       "      <td>-0.078498</td>\n",
       "      <td>-0.033444</td>\n",
       "      <td>-0.128646</td>\n",
       "      <td>0.306830</td>\n",
       "      <td>-0.280386</td>\n",
       "      <td>0.287120</td>\n",
       "      <td>-0.032768</td>\n",
       "      <td>-0.156390</td>\n",
       "      <td>-0.053577</td>\n",
       "      <td>-0.117358</td>\n",
       "      <td>NaN</td>\n",
       "    </tr>\n",
       "    <tr>\n",
       "      <th>LB</th>\n",
       "      <td>-0.020866</td>\n",
       "      <td>-0.014913</td>\n",
       "      <td>1.000000</td>\n",
       "      <td>1.000000</td>\n",
       "      <td>-0.078498</td>\n",
       "      <td>-0.033444</td>\n",
       "      <td>-0.128646</td>\n",
       "      <td>0.306830</td>\n",
       "      <td>-0.280386</td>\n",
       "      <td>0.287120</td>\n",
       "      <td>-0.032768</td>\n",
       "      <td>-0.156390</td>\n",
       "      <td>-0.053577</td>\n",
       "      <td>-0.117358</td>\n",
       "      <td>NaN</td>\n",
       "    </tr>\n",
       "    <tr>\n",
       "      <th>AC</th>\n",
       "      <td>-0.038626</td>\n",
       "      <td>0.071096</td>\n",
       "      <td>-0.078498</td>\n",
       "      <td>-0.078498</td>\n",
       "      <td>1.000000</td>\n",
       "      <td>0.053894</td>\n",
       "      <td>0.211749</td>\n",
       "      <td>-0.197574</td>\n",
       "      <td>0.191105</td>\n",
       "      <td>-0.344824</td>\n",
       "      <td>-0.129321</td>\n",
       "      <td>-0.011579</td>\n",
       "      <td>-0.039367</td>\n",
       "      <td>-0.110432</td>\n",
       "      <td>NaN</td>\n",
       "    </tr>\n",
       "    <tr>\n",
       "      <th>FM</th>\n",
       "      <td>-0.133932</td>\n",
       "      <td>-0.119442</td>\n",
       "      <td>-0.033444</td>\n",
       "      <td>-0.033444</td>\n",
       "      <td>0.053894</td>\n",
       "      <td>1.000000</td>\n",
       "      <td>-0.036758</td>\n",
       "      <td>-0.116386</td>\n",
       "      <td>0.138004</td>\n",
       "      <td>-0.072105</td>\n",
       "      <td>0.020942</td>\n",
       "      <td>0.076233</td>\n",
       "      <td>-0.010334</td>\n",
       "      <td>0.205318</td>\n",
       "      <td>NaN</td>\n",
       "    </tr>\n",
       "    <tr>\n",
       "      <th>UC</th>\n",
       "      <td>0.225278</td>\n",
       "      <td>0.386322</td>\n",
       "      <td>-0.128646</td>\n",
       "      <td>-0.128646</td>\n",
       "      <td>0.211749</td>\n",
       "      <td>-0.036758</td>\n",
       "      <td>1.000000</td>\n",
       "      <td>-0.078809</td>\n",
       "      <td>0.232255</td>\n",
       "      <td>-0.246707</td>\n",
       "      <td>-0.107281</td>\n",
       "      <td>0.339267</td>\n",
       "      <td>0.018378</td>\n",
       "      <td>0.152292</td>\n",
       "      <td>NaN</td>\n",
       "    </tr>\n",
       "    <tr>\n",
       "      <th>ASTV</th>\n",
       "      <td>-0.125929</td>\n",
       "      <td>-0.065412</td>\n",
       "      <td>0.306830</td>\n",
       "      <td>0.306830</td>\n",
       "      <td>-0.197574</td>\n",
       "      <td>-0.116386</td>\n",
       "      <td>-0.078809</td>\n",
       "      <td>1.000000</td>\n",
       "      <td>-0.430355</td>\n",
       "      <td>0.458727</td>\n",
       "      <td>-0.314620</td>\n",
       "      <td>-0.036615</td>\n",
       "      <td>0.034008</td>\n",
       "      <td>0.053900</td>\n",
       "      <td>NaN</td>\n",
       "    </tr>\n",
       "    <tr>\n",
       "      <th>MSTV</th>\n",
       "      <td>0.040201</td>\n",
       "      <td>0.043995</td>\n",
       "      <td>-0.280386</td>\n",
       "      <td>-0.280386</td>\n",
       "      <td>0.191105</td>\n",
       "      <td>0.138004</td>\n",
       "      <td>0.232255</td>\n",
       "      <td>-0.430355</td>\n",
       "      <td>1.000000</td>\n",
       "      <td>-0.469917</td>\n",
       "      <td>0.073469</td>\n",
       "      <td>0.516778</td>\n",
       "      <td>0.034112</td>\n",
       "      <td>0.287493</td>\n",
       "      <td>NaN</td>\n",
       "    </tr>\n",
       "    <tr>\n",
       "      <th>ALTV</th>\n",
       "      <td>-0.109352</td>\n",
       "      <td>-0.103469</td>\n",
       "      <td>0.287120</td>\n",
       "      <td>0.287120</td>\n",
       "      <td>-0.344824</td>\n",
       "      <td>-0.072105</td>\n",
       "      <td>-0.246707</td>\n",
       "      <td>0.458727</td>\n",
       "      <td>-0.469917</td>\n",
       "      <td>1.000000</td>\n",
       "      <td>-0.170414</td>\n",
       "      <td>-0.265993</td>\n",
       "      <td>-0.030745</td>\n",
       "      <td>-0.140013</td>\n",
       "      <td>NaN</td>\n",
       "    </tr>\n",
       "    <tr>\n",
       "      <th>MLTV</th>\n",
       "      <td>-0.100410</td>\n",
       "      <td>-0.108922</td>\n",
       "      <td>-0.032768</td>\n",
       "      <td>-0.032768</td>\n",
       "      <td>-0.129321</td>\n",
       "      <td>0.020942</td>\n",
       "      <td>-0.107281</td>\n",
       "      <td>-0.314620</td>\n",
       "      <td>0.073469</td>\n",
       "      <td>-0.170414</td>\n",
       "      <td>1.000000</td>\n",
       "      <td>-0.251832</td>\n",
       "      <td>-0.037704</td>\n",
       "      <td>-0.231042</td>\n",
       "      <td>NaN</td>\n",
       "    </tr>\n",
       "    <tr>\n",
       "      <th>DL</th>\n",
       "      <td>0.091591</td>\n",
       "      <td>0.162924</td>\n",
       "      <td>-0.156390</td>\n",
       "      <td>-0.156390</td>\n",
       "      <td>-0.011579</td>\n",
       "      <td>0.076233</td>\n",
       "      <td>0.339267</td>\n",
       "      <td>-0.036615</td>\n",
       "      <td>0.516778</td>\n",
       "      <td>-0.265993</td>\n",
       "      <td>-0.251832</td>\n",
       "      <td>1.000000</td>\n",
       "      <td>0.121611</td>\n",
       "      <td>0.294020</td>\n",
       "      <td>NaN</td>\n",
       "    </tr>\n",
       "    <tr>\n",
       "      <th>DS</th>\n",
       "      <td>0.063966</td>\n",
       "      <td>0.068215</td>\n",
       "      <td>-0.053577</td>\n",
       "      <td>-0.053577</td>\n",
       "      <td>-0.039367</td>\n",
       "      <td>-0.010334</td>\n",
       "      <td>0.018378</td>\n",
       "      <td>0.034008</td>\n",
       "      <td>0.034112</td>\n",
       "      <td>-0.030745</td>\n",
       "      <td>-0.037704</td>\n",
       "      <td>0.121611</td>\n",
       "      <td>1.000000</td>\n",
       "      <td>0.019759</td>\n",
       "      <td>NaN</td>\n",
       "    </tr>\n",
       "    <tr>\n",
       "      <th>DP</th>\n",
       "      <td>0.091609</td>\n",
       "      <td>0.111789</td>\n",
       "      <td>-0.117358</td>\n",
       "      <td>-0.117358</td>\n",
       "      <td>-0.110432</td>\n",
       "      <td>0.205318</td>\n",
       "      <td>0.152292</td>\n",
       "      <td>0.053900</td>\n",
       "      <td>0.287493</td>\n",
       "      <td>-0.140013</td>\n",
       "      <td>-0.231042</td>\n",
       "      <td>0.294020</td>\n",
       "      <td>0.019759</td>\n",
       "      <td>1.000000</td>\n",
       "      <td>NaN</td>\n",
       "    </tr>\n",
       "    <tr>\n",
       "      <th>DR</th>\n",
       "      <td>NaN</td>\n",
       "      <td>NaN</td>\n",
       "      <td>NaN</td>\n",
       "      <td>NaN</td>\n",
       "      <td>NaN</td>\n",
       "      <td>NaN</td>\n",
       "      <td>NaN</td>\n",
       "      <td>NaN</td>\n",
       "      <td>NaN</td>\n",
       "      <td>NaN</td>\n",
       "      <td>NaN</td>\n",
       "      <td>NaN</td>\n",
       "      <td>NaN</td>\n",
       "      <td>NaN</td>\n",
       "      <td>NaN</td>\n",
       "    </tr>\n",
       "  </tbody>\n",
       "</table>\n",
       "</div>"
      ],
      "text/plain": [
       "             b         e       LBE        LB        AC        FM        UC  \\\n",
       "b     1.000000  0.945005 -0.020866 -0.020866 -0.038626 -0.133932  0.225278   \n",
       "e     0.945005  1.000000 -0.014913 -0.014913  0.071096 -0.119442  0.386322   \n",
       "LBE  -0.020866 -0.014913  1.000000  1.000000 -0.078498 -0.033444 -0.128646   \n",
       "LB   -0.020866 -0.014913  1.000000  1.000000 -0.078498 -0.033444 -0.128646   \n",
       "AC   -0.038626  0.071096 -0.078498 -0.078498  1.000000  0.053894  0.211749   \n",
       "FM   -0.133932 -0.119442 -0.033444 -0.033444  0.053894  1.000000 -0.036758   \n",
       "UC    0.225278  0.386322 -0.128646 -0.128646  0.211749 -0.036758  1.000000   \n",
       "ASTV -0.125929 -0.065412  0.306830  0.306830 -0.197574 -0.116386 -0.078809   \n",
       "MSTV  0.040201  0.043995 -0.280386 -0.280386  0.191105  0.138004  0.232255   \n",
       "ALTV -0.109352 -0.103469  0.287120  0.287120 -0.344824 -0.072105 -0.246707   \n",
       "MLTV -0.100410 -0.108922 -0.032768 -0.032768 -0.129321  0.020942 -0.107281   \n",
       "DL    0.091591  0.162924 -0.156390 -0.156390 -0.011579  0.076233  0.339267   \n",
       "DS    0.063966  0.068215 -0.053577 -0.053577 -0.039367 -0.010334  0.018378   \n",
       "DP    0.091609  0.111789 -0.117358 -0.117358 -0.110432  0.205318  0.152292   \n",
       "DR         NaN       NaN       NaN       NaN       NaN       NaN       NaN   \n",
       "\n",
       "          ASTV      MSTV      ALTV      MLTV        DL        DS        DP  DR  \n",
       "b    -0.125929  0.040201 -0.109352 -0.100410  0.091591  0.063966  0.091609 NaN  \n",
       "e    -0.065412  0.043995 -0.103469 -0.108922  0.162924  0.068215  0.111789 NaN  \n",
       "LBE   0.306830 -0.280386  0.287120 -0.032768 -0.156390 -0.053577 -0.117358 NaN  \n",
       "LB    0.306830 -0.280386  0.287120 -0.032768 -0.156390 -0.053577 -0.117358 NaN  \n",
       "AC   -0.197574  0.191105 -0.344824 -0.129321 -0.011579 -0.039367 -0.110432 NaN  \n",
       "FM   -0.116386  0.138004 -0.072105  0.020942  0.076233 -0.010334  0.205318 NaN  \n",
       "UC   -0.078809  0.232255 -0.246707 -0.107281  0.339267  0.018378  0.152292 NaN  \n",
       "ASTV  1.000000 -0.430355  0.458727 -0.314620 -0.036615  0.034008  0.053900 NaN  \n",
       "MSTV -0.430355  1.000000 -0.469917  0.073469  0.516778  0.034112  0.287493 NaN  \n",
       "ALTV  0.458727 -0.469917  1.000000 -0.170414 -0.265993 -0.030745 -0.140013 NaN  \n",
       "MLTV -0.314620  0.073469 -0.170414  1.000000 -0.251832 -0.037704 -0.231042 NaN  \n",
       "DL   -0.036615  0.516778 -0.265993 -0.251832  1.000000  0.121611  0.294020 NaN  \n",
       "DS    0.034008  0.034112 -0.030745 -0.037704  0.121611  1.000000  0.019759 NaN  \n",
       "DP    0.053900  0.287493 -0.140013 -0.231042  0.294020  0.019759  1.000000 NaN  \n",
       "DR         NaN       NaN       NaN       NaN       NaN       NaN       NaN NaN  "
      ]
     },
     "execution_count": 77,
     "metadata": {},
     "output_type": "execute_result"
    }
   ],
   "source": [
    "df_raw_measures_no_aggregates.corr()"
   ]
  },
  {
   "cell_type": "markdown",
   "metadata": {},
   "source": [
    "Why is DR NaN?"
   ]
  },
  {
   "cell_type": "code",
   "execution_count": 78,
   "metadata": {},
   "outputs": [],
   "source": [
    "corr_m = df_raw_measures_no_aggregates.corr().fillna(0) # DR is removed since p(K-W)=1"
   ]
  },
  {
   "cell_type": "code",
   "execution_count": 79,
   "metadata": {},
   "outputs": [
    {
     "data": {
      "text/html": [
       "<div>\n",
       "<style scoped>\n",
       "    .dataframe tbody tr th:only-of-type {\n",
       "        vertical-align: middle;\n",
       "    }\n",
       "\n",
       "    .dataframe tbody tr th {\n",
       "        vertical-align: top;\n",
       "    }\n",
       "\n",
       "    .dataframe thead th {\n",
       "        text-align: right;\n",
       "    }\n",
       "</style>\n",
       "<table border=\"1\" class=\"dataframe\">\n",
       "  <thead>\n",
       "    <tr style=\"text-align: right;\">\n",
       "      <th></th>\n",
       "      <th>b</th>\n",
       "      <th>e</th>\n",
       "      <th>LBE</th>\n",
       "      <th>LB</th>\n",
       "      <th>AC</th>\n",
       "      <th>FM</th>\n",
       "      <th>UC</th>\n",
       "      <th>ASTV</th>\n",
       "      <th>MSTV</th>\n",
       "      <th>ALTV</th>\n",
       "      <th>MLTV</th>\n",
       "      <th>DL</th>\n",
       "      <th>DS</th>\n",
       "      <th>DP</th>\n",
       "      <th>DR</th>\n",
       "    </tr>\n",
       "  </thead>\n",
       "  <tbody>\n",
       "    <tr>\n",
       "      <th>b</th>\n",
       "      <td>1.000000</td>\n",
       "      <td>0.945005</td>\n",
       "      <td>-0.020866</td>\n",
       "      <td>-0.020866</td>\n",
       "      <td>-0.038626</td>\n",
       "      <td>-0.133932</td>\n",
       "      <td>0.225278</td>\n",
       "      <td>-0.125929</td>\n",
       "      <td>0.040201</td>\n",
       "      <td>-0.109352</td>\n",
       "      <td>-0.100410</td>\n",
       "      <td>0.091591</td>\n",
       "      <td>0.063966</td>\n",
       "      <td>0.091609</td>\n",
       "      <td>0.0</td>\n",
       "    </tr>\n",
       "    <tr>\n",
       "      <th>e</th>\n",
       "      <td>0.945005</td>\n",
       "      <td>1.000000</td>\n",
       "      <td>-0.014913</td>\n",
       "      <td>-0.014913</td>\n",
       "      <td>0.071096</td>\n",
       "      <td>-0.119442</td>\n",
       "      <td>0.386322</td>\n",
       "      <td>-0.065412</td>\n",
       "      <td>0.043995</td>\n",
       "      <td>-0.103469</td>\n",
       "      <td>-0.108922</td>\n",
       "      <td>0.162924</td>\n",
       "      <td>0.068215</td>\n",
       "      <td>0.111789</td>\n",
       "      <td>0.0</td>\n",
       "    </tr>\n",
       "    <tr>\n",
       "      <th>LBE</th>\n",
       "      <td>-0.020866</td>\n",
       "      <td>-0.014913</td>\n",
       "      <td>1.000000</td>\n",
       "      <td>1.000000</td>\n",
       "      <td>-0.078498</td>\n",
       "      <td>-0.033444</td>\n",
       "      <td>-0.128646</td>\n",
       "      <td>0.306830</td>\n",
       "      <td>-0.280386</td>\n",
       "      <td>0.287120</td>\n",
       "      <td>-0.032768</td>\n",
       "      <td>-0.156390</td>\n",
       "      <td>-0.053577</td>\n",
       "      <td>-0.117358</td>\n",
       "      <td>0.0</td>\n",
       "    </tr>\n",
       "    <tr>\n",
       "      <th>LB</th>\n",
       "      <td>-0.020866</td>\n",
       "      <td>-0.014913</td>\n",
       "      <td>1.000000</td>\n",
       "      <td>1.000000</td>\n",
       "      <td>-0.078498</td>\n",
       "      <td>-0.033444</td>\n",
       "      <td>-0.128646</td>\n",
       "      <td>0.306830</td>\n",
       "      <td>-0.280386</td>\n",
       "      <td>0.287120</td>\n",
       "      <td>-0.032768</td>\n",
       "      <td>-0.156390</td>\n",
       "      <td>-0.053577</td>\n",
       "      <td>-0.117358</td>\n",
       "      <td>0.0</td>\n",
       "    </tr>\n",
       "    <tr>\n",
       "      <th>AC</th>\n",
       "      <td>-0.038626</td>\n",
       "      <td>0.071096</td>\n",
       "      <td>-0.078498</td>\n",
       "      <td>-0.078498</td>\n",
       "      <td>1.000000</td>\n",
       "      <td>0.053894</td>\n",
       "      <td>0.211749</td>\n",
       "      <td>-0.197574</td>\n",
       "      <td>0.191105</td>\n",
       "      <td>-0.344824</td>\n",
       "      <td>-0.129321</td>\n",
       "      <td>-0.011579</td>\n",
       "      <td>-0.039367</td>\n",
       "      <td>-0.110432</td>\n",
       "      <td>0.0</td>\n",
       "    </tr>\n",
       "    <tr>\n",
       "      <th>FM</th>\n",
       "      <td>-0.133932</td>\n",
       "      <td>-0.119442</td>\n",
       "      <td>-0.033444</td>\n",
       "      <td>-0.033444</td>\n",
       "      <td>0.053894</td>\n",
       "      <td>1.000000</td>\n",
       "      <td>-0.036758</td>\n",
       "      <td>-0.116386</td>\n",
       "      <td>0.138004</td>\n",
       "      <td>-0.072105</td>\n",
       "      <td>0.020942</td>\n",
       "      <td>0.076233</td>\n",
       "      <td>-0.010334</td>\n",
       "      <td>0.205318</td>\n",
       "      <td>0.0</td>\n",
       "    </tr>\n",
       "    <tr>\n",
       "      <th>UC</th>\n",
       "      <td>0.225278</td>\n",
       "      <td>0.386322</td>\n",
       "      <td>-0.128646</td>\n",
       "      <td>-0.128646</td>\n",
       "      <td>0.211749</td>\n",
       "      <td>-0.036758</td>\n",
       "      <td>1.000000</td>\n",
       "      <td>-0.078809</td>\n",
       "      <td>0.232255</td>\n",
       "      <td>-0.246707</td>\n",
       "      <td>-0.107281</td>\n",
       "      <td>0.339267</td>\n",
       "      <td>0.018378</td>\n",
       "      <td>0.152292</td>\n",
       "      <td>0.0</td>\n",
       "    </tr>\n",
       "    <tr>\n",
       "      <th>ASTV</th>\n",
       "      <td>-0.125929</td>\n",
       "      <td>-0.065412</td>\n",
       "      <td>0.306830</td>\n",
       "      <td>0.306830</td>\n",
       "      <td>-0.197574</td>\n",
       "      <td>-0.116386</td>\n",
       "      <td>-0.078809</td>\n",
       "      <td>1.000000</td>\n",
       "      <td>-0.430355</td>\n",
       "      <td>0.458727</td>\n",
       "      <td>-0.314620</td>\n",
       "      <td>-0.036615</td>\n",
       "      <td>0.034008</td>\n",
       "      <td>0.053900</td>\n",
       "      <td>0.0</td>\n",
       "    </tr>\n",
       "    <tr>\n",
       "      <th>MSTV</th>\n",
       "      <td>0.040201</td>\n",
       "      <td>0.043995</td>\n",
       "      <td>-0.280386</td>\n",
       "      <td>-0.280386</td>\n",
       "      <td>0.191105</td>\n",
       "      <td>0.138004</td>\n",
       "      <td>0.232255</td>\n",
       "      <td>-0.430355</td>\n",
       "      <td>1.000000</td>\n",
       "      <td>-0.469917</td>\n",
       "      <td>0.073469</td>\n",
       "      <td>0.516778</td>\n",
       "      <td>0.034112</td>\n",
       "      <td>0.287493</td>\n",
       "      <td>0.0</td>\n",
       "    </tr>\n",
       "    <tr>\n",
       "      <th>ALTV</th>\n",
       "      <td>-0.109352</td>\n",
       "      <td>-0.103469</td>\n",
       "      <td>0.287120</td>\n",
       "      <td>0.287120</td>\n",
       "      <td>-0.344824</td>\n",
       "      <td>-0.072105</td>\n",
       "      <td>-0.246707</td>\n",
       "      <td>0.458727</td>\n",
       "      <td>-0.469917</td>\n",
       "      <td>1.000000</td>\n",
       "      <td>-0.170414</td>\n",
       "      <td>-0.265993</td>\n",
       "      <td>-0.030745</td>\n",
       "      <td>-0.140013</td>\n",
       "      <td>0.0</td>\n",
       "    </tr>\n",
       "    <tr>\n",
       "      <th>MLTV</th>\n",
       "      <td>-0.100410</td>\n",
       "      <td>-0.108922</td>\n",
       "      <td>-0.032768</td>\n",
       "      <td>-0.032768</td>\n",
       "      <td>-0.129321</td>\n",
       "      <td>0.020942</td>\n",
       "      <td>-0.107281</td>\n",
       "      <td>-0.314620</td>\n",
       "      <td>0.073469</td>\n",
       "      <td>-0.170414</td>\n",
       "      <td>1.000000</td>\n",
       "      <td>-0.251832</td>\n",
       "      <td>-0.037704</td>\n",
       "      <td>-0.231042</td>\n",
       "      <td>0.0</td>\n",
       "    </tr>\n",
       "    <tr>\n",
       "      <th>DL</th>\n",
       "      <td>0.091591</td>\n",
       "      <td>0.162924</td>\n",
       "      <td>-0.156390</td>\n",
       "      <td>-0.156390</td>\n",
       "      <td>-0.011579</td>\n",
       "      <td>0.076233</td>\n",
       "      <td>0.339267</td>\n",
       "      <td>-0.036615</td>\n",
       "      <td>0.516778</td>\n",
       "      <td>-0.265993</td>\n",
       "      <td>-0.251832</td>\n",
       "      <td>1.000000</td>\n",
       "      <td>0.121611</td>\n",
       "      <td>0.294020</td>\n",
       "      <td>0.0</td>\n",
       "    </tr>\n",
       "    <tr>\n",
       "      <th>DS</th>\n",
       "      <td>0.063966</td>\n",
       "      <td>0.068215</td>\n",
       "      <td>-0.053577</td>\n",
       "      <td>-0.053577</td>\n",
       "      <td>-0.039367</td>\n",
       "      <td>-0.010334</td>\n",
       "      <td>0.018378</td>\n",
       "      <td>0.034008</td>\n",
       "      <td>0.034112</td>\n",
       "      <td>-0.030745</td>\n",
       "      <td>-0.037704</td>\n",
       "      <td>0.121611</td>\n",
       "      <td>1.000000</td>\n",
       "      <td>0.019759</td>\n",
       "      <td>0.0</td>\n",
       "    </tr>\n",
       "    <tr>\n",
       "      <th>DP</th>\n",
       "      <td>0.091609</td>\n",
       "      <td>0.111789</td>\n",
       "      <td>-0.117358</td>\n",
       "      <td>-0.117358</td>\n",
       "      <td>-0.110432</td>\n",
       "      <td>0.205318</td>\n",
       "      <td>0.152292</td>\n",
       "      <td>0.053900</td>\n",
       "      <td>0.287493</td>\n",
       "      <td>-0.140013</td>\n",
       "      <td>-0.231042</td>\n",
       "      <td>0.294020</td>\n",
       "      <td>0.019759</td>\n",
       "      <td>1.000000</td>\n",
       "      <td>0.0</td>\n",
       "    </tr>\n",
       "    <tr>\n",
       "      <th>DR</th>\n",
       "      <td>0.000000</td>\n",
       "      <td>0.000000</td>\n",
       "      <td>0.000000</td>\n",
       "      <td>0.000000</td>\n",
       "      <td>0.000000</td>\n",
       "      <td>0.000000</td>\n",
       "      <td>0.000000</td>\n",
       "      <td>0.000000</td>\n",
       "      <td>0.000000</td>\n",
       "      <td>0.000000</td>\n",
       "      <td>0.000000</td>\n",
       "      <td>0.000000</td>\n",
       "      <td>0.000000</td>\n",
       "      <td>0.000000</td>\n",
       "      <td>0.0</td>\n",
       "    </tr>\n",
       "  </tbody>\n",
       "</table>\n",
       "</div>"
      ],
      "text/plain": [
       "             b         e       LBE        LB        AC        FM        UC  \\\n",
       "b     1.000000  0.945005 -0.020866 -0.020866 -0.038626 -0.133932  0.225278   \n",
       "e     0.945005  1.000000 -0.014913 -0.014913  0.071096 -0.119442  0.386322   \n",
       "LBE  -0.020866 -0.014913  1.000000  1.000000 -0.078498 -0.033444 -0.128646   \n",
       "LB   -0.020866 -0.014913  1.000000  1.000000 -0.078498 -0.033444 -0.128646   \n",
       "AC   -0.038626  0.071096 -0.078498 -0.078498  1.000000  0.053894  0.211749   \n",
       "FM   -0.133932 -0.119442 -0.033444 -0.033444  0.053894  1.000000 -0.036758   \n",
       "UC    0.225278  0.386322 -0.128646 -0.128646  0.211749 -0.036758  1.000000   \n",
       "ASTV -0.125929 -0.065412  0.306830  0.306830 -0.197574 -0.116386 -0.078809   \n",
       "MSTV  0.040201  0.043995 -0.280386 -0.280386  0.191105  0.138004  0.232255   \n",
       "ALTV -0.109352 -0.103469  0.287120  0.287120 -0.344824 -0.072105 -0.246707   \n",
       "MLTV -0.100410 -0.108922 -0.032768 -0.032768 -0.129321  0.020942 -0.107281   \n",
       "DL    0.091591  0.162924 -0.156390 -0.156390 -0.011579  0.076233  0.339267   \n",
       "DS    0.063966  0.068215 -0.053577 -0.053577 -0.039367 -0.010334  0.018378   \n",
       "DP    0.091609  0.111789 -0.117358 -0.117358 -0.110432  0.205318  0.152292   \n",
       "DR    0.000000  0.000000  0.000000  0.000000  0.000000  0.000000  0.000000   \n",
       "\n",
       "          ASTV      MSTV      ALTV      MLTV        DL        DS        DP  \\\n",
       "b    -0.125929  0.040201 -0.109352 -0.100410  0.091591  0.063966  0.091609   \n",
       "e    -0.065412  0.043995 -0.103469 -0.108922  0.162924  0.068215  0.111789   \n",
       "LBE   0.306830 -0.280386  0.287120 -0.032768 -0.156390 -0.053577 -0.117358   \n",
       "LB    0.306830 -0.280386  0.287120 -0.032768 -0.156390 -0.053577 -0.117358   \n",
       "AC   -0.197574  0.191105 -0.344824 -0.129321 -0.011579 -0.039367 -0.110432   \n",
       "FM   -0.116386  0.138004 -0.072105  0.020942  0.076233 -0.010334  0.205318   \n",
       "UC   -0.078809  0.232255 -0.246707 -0.107281  0.339267  0.018378  0.152292   \n",
       "ASTV  1.000000 -0.430355  0.458727 -0.314620 -0.036615  0.034008  0.053900   \n",
       "MSTV -0.430355  1.000000 -0.469917  0.073469  0.516778  0.034112  0.287493   \n",
       "ALTV  0.458727 -0.469917  1.000000 -0.170414 -0.265993 -0.030745 -0.140013   \n",
       "MLTV -0.314620  0.073469 -0.170414  1.000000 -0.251832 -0.037704 -0.231042   \n",
       "DL   -0.036615  0.516778 -0.265993 -0.251832  1.000000  0.121611  0.294020   \n",
       "DS    0.034008  0.034112 -0.030745 -0.037704  0.121611  1.000000  0.019759   \n",
       "DP    0.053900  0.287493 -0.140013 -0.231042  0.294020  0.019759  1.000000   \n",
       "DR    0.000000  0.000000  0.000000  0.000000  0.000000  0.000000  0.000000   \n",
       "\n",
       "       DR  \n",
       "b     0.0  \n",
       "e     0.0  \n",
       "LBE   0.0  \n",
       "LB    0.0  \n",
       "AC    0.0  \n",
       "FM    0.0  \n",
       "UC    0.0  \n",
       "ASTV  0.0  \n",
       "MSTV  0.0  \n",
       "ALTV  0.0  \n",
       "MLTV  0.0  \n",
       "DL    0.0  \n",
       "DS    0.0  \n",
       "DP    0.0  \n",
       "DR    0.0  "
      ]
     },
     "execution_count": 79,
     "metadata": {},
     "output_type": "execute_result"
    }
   ],
   "source": [
    "corr_m"
   ]
  },
  {
   "cell_type": "code",
   "execution_count": 80,
   "metadata": {},
   "outputs": [
    {
     "data": {
      "text/plain": [
       "False"
      ]
     },
     "execution_count": 80,
     "metadata": {},
     "output_type": "execute_result"
    }
   ],
   "source": [
    "numeric_df = df_raw_measures_no_aggregates.apply(pd.to_numeric, errors='coerce')\n",
    "numeric_df.isnull().values.any()"
   ]
  },
  {
   "cell_type": "markdown",
   "metadata": {},
   "source": [
    "# Mettere al fondo come next step: handle correlated features"
   ]
  },
  {
   "cell_type": "code",
   "execution_count": 81,
   "metadata": {},
   "outputs": [
    {
     "data": {
      "image/png": "[encoded data removed]",
      "text/plain": [
       "<Figure size 1000x1000 with 4 Axes>"
      ]
     },
     "metadata": {},
     "output_type": "display_data"
    }
   ],
   "source": [
    "import seaborn as sns\n",
    "sns_plot = sns.clustermap(corr_m, cmap=\"rocket_r\")"
   ]
  },
  {
   "cell_type": "code",
   "execution_count": null,
   "metadata": {},
   "outputs": [],
   "source": [
    "#DR will be dropped"
   ]
  },
  {
   "cell_type": "code",
   "execution_count": 82,
   "metadata": {},
   "outputs": [],
   "source": [
    "measure_columns_no_aggregates = [\"b\",\"e\",\"LBE\",\"LB\",\"AC\",\"FM\",\"UC\",\"ASTV\",\"MSTV\",\"ALTV\",\"MLTV\",\"DL\",\"DS\",\"DP\"]\n",
    "df_raw_measures_no_aggregates = df_raw.loc[:,measure_columns_no_aggregates]"
   ]
  },
  {
   "cell_type": "code",
   "execution_count": null,
   "metadata": {},
   "outputs": [],
   "source": [
    "target_col = [\"\"]"
   ]
  },
  {
   "cell_type": "code",
   "execution_count": 84,
   "metadata": {},
   "outputs": [],
   "source": [
    "import scipy as sp \n",
    "\n",
    "norm_df=sp.stats.zscore(df_raw_measures_no_aggregates)"
   ]
  },
  {
   "cell_type": "code",
   "execution_count": 85,
   "metadata": {},
   "outputs": [
    {
     "data": {
      "text/plain": [
       "<Axes: >"
      ]
     },
     "execution_count": 85,
     "metadata": {},
     "output_type": "execute_result"
    },
    {
     "data": {
      "image/png": "[encoded data removed]",
      "text/plain": [
       "<Figure size 640x480 with 1 Axes>"
      ]
     },
     "metadata": {},
     "output_type": "display_data"
    }
   ],
   "source": [
    "sns.boxplot(norm_df)"
   ]
  },
  {
   "cell_type": "markdown",
   "metadata": {},
   "source": [
    "We note different outliers"
   ]
  },
  {
   "cell_type": "code",
   "execution_count": 113,
   "metadata": {},
   "outputs": [
    {
     "data": {
      "text/plain": [
       "Index(['b', 'e', 'LBE', 'LB', 'AC', 'FM', 'UC', 'ASTV', 'MSTV', 'ALTV', 'MLTV',\n",
       "       'DL', 'DS', 'DP', 'DR', 'Width', 'Min', 'Max', 'Nmax', 'Nzeros', 'Mode',\n",
       "       'Mean', 'Median', 'Variance', 'Tendency'],\n",
       "      dtype='object')"
      ]
     },
     "execution_count": 113,
     "metadata": {},
     "output_type": "execute_result"
    }
   ],
   "source": [
    "df_raw_measures.columns"
   ]
  },
  {
   "cell_type": "markdown",
   "metadata": {},
   "source": [
    "## Dataset preparation"
   ]
  },
  {
   "cell_type": "code",
   "execution_count": 224,
   "metadata": {},
   "outputs": [],
   "source": [
    "measure_columns_tot = [\"b\",\"e\",\"LBE\",\"LB\",\"AC\",\"FM\",\"UC\",\"ASTV\",\"MSTV\",\"ALTV\",\"MLTV\",\"DL\",\"DS\",\"DP\",\"Width\",\"Min\",\"Max\",\"Nmax\",\"Nzeros\",\"Mode\",\"Mean\",\"Median\",\"Variance\",\"Tendency\",\"NSP\"] # no DR\n",
    "df_raw_measures_tot = df_raw.loc[:,measure_columns_tot]"
   ]
  },
  {
   "cell_type": "markdown",
   "metadata": {},
   "source": [
    "Oversample as unbalanced dataset. Warning in using artificial data for patients. "
   ]
  },
  {
   "cell_type": "code",
   "execution_count": 247,
   "metadata": {},
   "outputs": [],
   "source": [
    "from imblearn.over_sampling import SMOTE"
   ]
  },
  {
   "cell_type": "code",
   "execution_count": 225,
   "metadata": {},
   "outputs": [],
   "source": [
    "from sklearn.preprocessing import LabelEncoder\n",
    "from scipy import stats\n",
    "\n",
    "le = LabelEncoder()\n",
    "X_cut=df_raw_measures_tot\n",
    "X=X_cut.loc[:,measure_columns]\n",
    "y = X_cut.loc[:,'NSP'].astype('uint8')\n",
    "y_encode = le.fit_transform(y)"
   ]
  },
  {
   "cell_type": "code",
   "execution_count": 249,
   "metadata": {},
   "outputs": [],
   "source": [
    "oversample=SMOTE()\n",
    "X_ov,y_ov = oversample.fit_resample(X,y_encode)"
   ]
  },
  {
   "cell_type": "code",
   "execution_count": 253,
   "metadata": {},
   "outputs": [
    {
     "data": {
      "text/plain": [
       "4440"
      ]
     },
     "execution_count": 253,
     "metadata": {},
     "output_type": "execute_result"
    }
   ],
   "source": [
    "len(y_ov)"
   ]
  },
  {
   "cell_type": "code",
   "execution_count": 258,
   "metadata": {},
   "outputs": [],
   "source": [
    "lbls=[f\"{x*100:.2f}%\" for x in np.histogram(y_ov,bins=3)[0]/np.sum(np.histogram(y_ov)[0])]"
   ]
  },
  {
   "cell_type": "code",
   "execution_count": 259,
   "metadata": {},
   "outputs": [
    {
     "data": {
      "text/plain": [
       "[Text(0, 0, '33.33%'), Text(0, 0, '33.33%'), Text(0, 0, '33.33%')]"
      ]
     },
     "execution_count": 259,
     "metadata": {},
     "output_type": "execute_result"
    },
    {
     "data": {
      "image/png": "[encoded data removed]",
      "text/plain": [
       "<Figure size 640x480 with 1 Axes>"
      ]
     },
     "metadata": {},
     "output_type": "display_data"
    }
   ],
   "source": [
    "ax=sns.histplot(y_ov,bins=3)\n",
    "ax.bar_label(ax.containers[0],labels=lbls)"
   ]
  },
  {
   "cell_type": "code",
   "execution_count": 260,
   "metadata": {},
   "outputs": [],
   "source": [
    "from sklearn.model_selection import train_test_split\n",
    "\n",
    "X_train, X_test, y_train, y_test = train_test_split(X_ov, y_ov, test_size=0.15, random_state=1)\n",
    "\n",
    "X_train, X_val, y_train, y_val = train_test_split(X_train, y_train, test_size=0.2, random_state=1)"
   ]
  },
  {
   "cell_type": "markdown",
   "metadata": {},
   "source": [
    "## ML Algorithms"
   ]
  },
  {
   "cell_type": "markdown",
   "metadata": {},
   "source": [
    "Imports"
   ]
  },
  {
   "cell_type": "code",
   "execution_count": 261,
   "metadata": {},
   "outputs": [],
   "source": [
    "import numpy as np\n",
    "import pandas as pd\n",
    "import seaborn as sns\n",
    "import matplotlib.pyplot as plt; plt.style.use('classic');\n",
    "# Sklearn >>>>\n",
    "from sklearn.decomposition import PCA\n",
    "from sklearn.svm import SVC, LinearSVC\n",
    "from sklearn.pipeline import Pipeline\n",
    "from sklearn.naive_bayes import GaussianNB\n",
    "from sklearn.preprocessing import StandardScaler\n",
    "from sklearn.neighbors import KNeighborsClassifier\n",
    "from sklearn.ensemble import RandomForestClassifier\n",
    "from sklearn.tree import DecisionTreeClassifier\n",
    "from sklearn.model_selection import train_test_split\n",
    "from sklearn.feature_selection import SequentialFeatureSelector\n",
    "#from sklearn.metrics import plot_roc_curve, plot_confusion_matrix\n",
    "from sklearn.model_selection import KFold, GridSearchCV, RandomizedSearchCV\n",
    "import xgboost as xgb\n",
    "from lightgbm import LGBMClassifier"
   ]
  },
  {
   "cell_type": "markdown",
   "metadata": {},
   "source": [
    "Il set di algoritmi scelti corrisponde alle seguenti valutazioni: tra i classifiers, i più famosi sono gli alberi, le svm e i mlp. Abbiamo pochi dati e poche features, non c'è bisogno di un sistema complesso che potrebbe non avere abbastanza dati a disposizione, nè pca perchè ci sono poche features e non c'è bisogno di ottimizzazione computazionale. \n",
    "Proviamo gaussiannb,alberi (rf), svm, xgb e lgbmclassifier. Da esperienza personale i supervised con xgboost han sempre prodotto risultati migliori, anche se di poco. l' lgbm è avvalorato come un buon algoritmo. "
   ]
  },
  {
   "cell_type": "markdown",
   "metadata": {},
   "source": [
    "For example, for RBF kernel (most standard kernel function)\n",
    "depends on two parameters: Gamma and C\n",
    "• Best practice for setting the parameters’ values:\n",
    "– Define a grid of (Cmin : Cstep: Cmax, gammamin: gammastep: gammamax)\n",
    "pairs, with default C,gamma in the center and large step values\n",
    "– Compute crossvalidation accuracy per each pair of parameters values,\n",
    "chose the best ones\n",
    "– Define a finer grid around the optimal pair\n",
    "– Go on until convergence"
   ]
  },
  {
   "cell_type": "code",
   "execution_count": 262,
   "metadata": {},
   "outputs": [
    {
     "name": "stdout",
     "output_type": "stream",
     "text": [
      "Best parameter (CV score=0.760):\n",
      "{}\n",
      "Best parameter (CV score=0.968):\n",
      "{'svm__C': 1000, 'svm__gamma': 0.001, 'svm__kernel': 'rbf'}\n",
      "Best parameter (CV score=0.973):\n",
      "{'rf__n_estimators': 200}\n",
      "Best parameter (CV score=0.979):\n",
      "{'xgb__learning_rate': 0.1, 'xgb__n_estimators': 200, 'xgb__tree_method': 'hist'}\n",
      "[LightGBM] [Info] Auto-choosing col-wise multi-threading, the overhead of testing was 0.001063 seconds.\n",
      "You can set `force_col_wise=true` to remove the overhead.\n",
      "[LightGBM] [Info] Total Bins 5662\n",
      "[LightGBM] [Info] Number of data points in the train set: 3019, number of used features: 23\n",
      "[LightGBM] [Info] Start training from score -1.102928\n",
      "[LightGBM] [Info] Start training from score -1.096957\n",
      "[LightGBM] [Info] Start training from score -1.095966\n",
      "[LightGBM] [Info] Auto-choosing col-wise multi-threading, the overhead of testing was 0.000609 seconds.\n",
      "You can set `force_col_wise=true` to remove the overhead.\n",
      "[LightGBM] [Info] Total Bins 5662\n",
      "[LightGBM] [Info] Number of data points in the train set: 3019, number of used features: 23\n",
      "[LightGBM] [Info] Start training from score -1.102928\n",
      "[LightGBM] [Info] Start training from score -1.096957\n",
      "[LightGBM] [Info] Start training from score -1.095966\n",
      "Best parameter (CV score=0.982):\n",
      "{'lgbm__learning_rate': 0.1, 'lgbm__objective': 'multiclass', 'lgbm__subsample_for_bin': 200000}\n"
     ]
    }
   ],
   "source": [
    "#requested classifiers\n",
    "classif=[('gnb',GaussianNB()),('svm',SVC()),('rf',RandomForestClassifier()),('xgb',xgb.XGBClassifier()),('lgbm',LGBMClassifier())]\n",
    "\n",
    "# classif_names=[x[0] for x in classif] #for roc curve\n",
    "\n",
    "#build one pipeline for each classifier\n",
    "pipes = [Pipeline([\n",
    "    ('scaling', StandardScaler(with_mean=True)),\n",
    "    i]) for i in classif]\n",
    "\n",
    "# Parameters of pipelines can be set using ‘__’ separated parameter names:\n",
    "params_grid = [{},\n",
    "    {'svm__C': [1, 10, 100, 1000], 'svm__gamma': [0.001, 0.0001], 'svm__kernel': ['rbf']},\n",
    "    {'rf__n_estimators':[10,100,200]},\n",
    "    {'xgb__tree_method':['hist'],'xgb__n_estimators':[10,100,200],'xgb__learning_rate':[0.1,0.01]}, \n",
    "    {'lgbm__learning_rate':[0.1,0.01],'lgbm__subsample_for_bin':[1000,2000,200000],'lgbm__objective':['multiclass']}            \n",
    "    ]\n",
    "\n",
    "for i,(pipe,param) in enumerate(zip(pipes,params_grid)):\n",
    "    group=KFold(n_splits=3)\n",
    "    \n",
    "    #search = RandomizedSearchCV(pipe, param, n_jobs=-1,cv=group) #jobs=-1 --> use all processors. cv=apply the groupKfold\n",
    "    search = GridSearchCV(pipe, param, n_jobs=-1,cv=group)\n",
    "    \n",
    "    # here i am going to fit all:\n",
    "\n",
    "    search.fit(X_train, y_train) \n",
    "\n",
    "    best_estimator2=search.best_estimator_.fit(X_train,y_train)\n",
    "\n",
    "    print(\"Best parameter (CV score=%0.3f):\" % search.best_score_)\n",
    "    print(search.best_params_)\n",
    "\n",
    "    # fig, ax = plt.subplots(1, 1)\n",
    "    # plot_roc_curve(best_estimator2, \n",
    "    #                         X_test,\n",
    "    #                         y2_test, \n",
    "    #                         ax=ax,\n",
    "    #                         name=classif_names[i]);\n"
   ]
  },
  {
   "cell_type": "code",
   "execution_count": 263,
   "metadata": {},
   "outputs": [],
   "source": [
    "y_pred=best_estimator2.predict(X_test)"
   ]
  },
  {
   "cell_type": "code",
   "execution_count": 264,
   "metadata": {},
   "outputs": [],
   "source": [
    "y_score=best_estimator2.predict_proba(X_test)"
   ]
  },
  {
   "cell_type": "code",
   "execution_count": 265,
   "metadata": {},
   "outputs": [
    {
     "data": {
      "text/plain": [
       "array([[1.74285932e-06, 1.72361668e-06, 9.99996534e-01],\n",
       "       [9.99997211e-01, 2.00007872e-06, 7.88428938e-07],\n",
       "       [4.84343222e-01, 5.12154095e-01, 3.50268254e-03],\n",
       "       ...,\n",
       "       [9.99966655e-01, 3.10849518e-05, 2.26010478e-06],\n",
       "       [1.49849004e-06, 3.26098845e-06, 9.99995241e-01],\n",
       "       [1.11327926e-05, 9.99982807e-01, 6.06000564e-06]])"
      ]
     },
     "execution_count": 265,
     "metadata": {},
     "output_type": "execute_result"
    }
   ],
   "source": [
    "y_score"
   ]
  },
  {
   "cell_type": "code",
   "execution_count": 266,
   "metadata": {},
   "outputs": [
    {
     "name": "stdout",
     "output_type": "stream",
     "text": [
      "              precision    recall  f1-score   support\n",
      "\n",
      "           0       1.00      0.95      0.98       217\n",
      "           1       0.95      1.00      0.97       222\n",
      "           2       1.00      1.00      1.00       227\n",
      "\n",
      "    accuracy                           0.98       666\n",
      "   macro avg       0.98      0.98      0.98       666\n",
      "weighted avg       0.98      0.98      0.98       666\n",
      "\n"
     ]
    }
   ],
   "source": [
    "from sklearn.metrics import classification_report\n",
    "print(classification_report(y_test, y_pred))"
   ]
  },
  {
   "cell_type": "code",
   "execution_count": 268,
   "metadata": {},
   "outputs": [
    {
     "data": {
      "image/png": "[encoded data removed]",
      "text/plain": [
       "<Figure size 640x480 with 1 Axes>"
      ]
     },
     "metadata": {},
     "output_type": "display_data"
    }
   ],
   "source": [
    "from utils import plot_confusion_matrix\n",
    "cm=confusion_matrix(y_test,y_pred)\n",
    "plot_confusion_matrix.make_confusion_matrix(cm,categories=[\"N\",\"S\",\"P\"],cbar=False)"
   ]
  },
  {
   "cell_type": "code",
   "execution_count": null,
   "metadata": {},
   "outputs": [],
   "source": [
    "from sklearn.metrics import RocCurveDisplay, auc, roc_curve\n",
    "\n",
    "macro_roc_auc_ovr = roc_auc_score(\n",
    "    y_test,\n",
    "    y_score,\n",
    "    multi_class=\"ovr\",\n",
    "    average=\"macro\",\n",
    ")\n"
   ]
  },
  {
   "cell_type": "code",
   "execution_count": null,
   "metadata": {},
   "outputs": [],
   "source": [
    "display = RocCurveDisplay.from_predictions(\n",
    "    y_onehot_test[:, class_id],\n",
    "    y_score[:, class_id],\n",
    "    name=f\"{class_of_interest} vs the rest\",\n",
    "    color=\"darkorange\",\n",
    "    plot_chance_level=True,\n",
    ")\n",
    "_ = display.ax_.set(\n",
    "    xlabel=\"False Positive Rate\",\n",
    "    ylabel=\"True Positive Rate\",\n",
    "    title=\"One-vs-Rest ROC curves:\\nVirginica vs (Setosa & Versicolor)\",\n",
    ")"
   ]
  },
  {
   "cell_type": "code",
   "execution_count": null,
   "metadata": {},
   "outputs": [],
   "source": [
    "\n",
    "\n",
    "fig, ax = plt.subplots(figsize=(6, 6))\n",
    "n_classes=len(y_test)\n",
    "#colors = cycle([\"aqua\", \"darkorange\", \"cornflowerblue\"])\n",
    "colors = [\"aqua\", \"darkorange\", \"cornflowerblue\"]\n",
    "for class_id, color in zip(range(n_classes), colors):\n",
    "    RocCurveDisplay.from_predictions(\n",
    "        y_onehot_test[:, class_id],\n",
    "        y_score[:, class_id],\n",
    "        name=f\"ROC curve for {target_names[class_id]}\",\n",
    "        color=color,\n",
    "        ax=ax,\n",
    "        plot_chance_level=(class_id == 2),\n",
    "    )\n",
    "\n",
    "_ = ax.set(\n",
    "    xlabel=\"False Positive Rate\",\n",
    "    ylabel=\"True Positive Rate\",\n",
    "    title=\"Extension of Receiver Operating Characteristic\\nto One-vs-Rest multiclass\",\n",
    ")"
   ]
  },
  {
   "cell_type": "code",
   "execution_count": 160,
   "metadata": {},
   "outputs": [
    {
     "ename": "ValueError",
     "evalue": "The target y is not binary. Got multiclass type of target.",
     "output_type": "error",
     "traceback": [
      "\u001b[1;31m---------------------------------------------------------------------------\u001b[0m",
      "\u001b[1;31mValueError\u001b[0m                                Traceback (most recent call last)",
      "Cell \u001b[1;32mIn[160], line 2\u001b[0m\n\u001b[0;32m      1\u001b[0m \u001b[38;5;28;01mfrom\u001b[39;00m \u001b[38;5;21;01msklearn\u001b[39;00m\u001b[38;5;21;01m.\u001b[39;00m\u001b[38;5;21;01mmetrics\u001b[39;00m \u001b[38;5;28;01mimport\u001b[39;00m RocCurveDisplay\n\u001b[1;32m----> 2\u001b[0m \u001b[43mRocCurveDisplay\u001b[49m\u001b[38;5;241;43m.\u001b[39;49m\u001b[43mfrom_predictions\u001b[49m\u001b[43m(\u001b[49m\u001b[43my_test\u001b[49m\u001b[43m,\u001b[49m\u001b[43my_pred\u001b[49m\u001b[43m)\u001b[49m\n",
      "File \u001b[1;32mc:\\Users\\hp\\Downloads\\Work\\Eni\\DataChallenge\\Development\\EniDataChallenge\\.venv\\lib\\site-packages\\sklearn\\metrics\\_plot\\roc_curve.py:386\u001b[0m, in \u001b[0;36mRocCurveDisplay.from_predictions\u001b[1;34m(cls, y_true, y_pred, sample_weight, drop_intermediate, pos_label, name, ax, plot_chance_level, chance_level_kw, **kwargs)\u001b[0m\n\u001b[0;32m    291\u001b[0m \u001b[38;5;129m@classmethod\u001b[39m\n\u001b[0;32m    292\u001b[0m \u001b[38;5;28;01mdef\u001b[39;00m \u001b[38;5;21mfrom_predictions\u001b[39m(\n\u001b[0;32m    293\u001b[0m     \u001b[38;5;28mcls\u001b[39m,\n\u001b[1;32m   (...)\u001b[0m\n\u001b[0;32m    304\u001b[0m     \u001b[38;5;241m*\u001b[39m\u001b[38;5;241m*\u001b[39mkwargs,\n\u001b[0;32m    305\u001b[0m ):\n\u001b[0;32m    306\u001b[0m \u001b[38;5;250m    \u001b[39m\u001b[38;5;124;03m\"\"\"Plot ROC curve given the true and predicted values.\u001b[39;00m\n\u001b[0;32m    307\u001b[0m \n\u001b[0;32m    308\u001b[0m \u001b[38;5;124;03m    Read more in the :ref:`User Guide <visualizations>`.\u001b[39;00m\n\u001b[1;32m   (...)\u001b[0m\n\u001b[0;32m    384\u001b[0m \u001b[38;5;124;03m    >>> plt.show()\u001b[39;00m\n\u001b[0;32m    385\u001b[0m \u001b[38;5;124;03m    \"\"\"\u001b[39;00m\n\u001b[1;32m--> 386\u001b[0m     pos_label_validated, name \u001b[38;5;241m=\u001b[39m \u001b[38;5;28;43mcls\u001b[39;49m\u001b[38;5;241;43m.\u001b[39;49m\u001b[43m_validate_from_predictions_params\u001b[49m\u001b[43m(\u001b[49m\n\u001b[0;32m    387\u001b[0m \u001b[43m        \u001b[49m\u001b[43my_true\u001b[49m\u001b[43m,\u001b[49m\u001b[43m \u001b[49m\u001b[43my_pred\u001b[49m\u001b[43m,\u001b[49m\u001b[43m \u001b[49m\u001b[43msample_weight\u001b[49m\u001b[38;5;241;43m=\u001b[39;49m\u001b[43msample_weight\u001b[49m\u001b[43m,\u001b[49m\u001b[43m \u001b[49m\u001b[43mpos_label\u001b[49m\u001b[38;5;241;43m=\u001b[39;49m\u001b[43mpos_label\u001b[49m\u001b[43m,\u001b[49m\u001b[43m \u001b[49m\u001b[43mname\u001b[49m\u001b[38;5;241;43m=\u001b[39;49m\u001b[43mname\u001b[49m\n\u001b[0;32m    388\u001b[0m \u001b[43m    \u001b[49m\u001b[43m)\u001b[49m\n\u001b[0;32m    390\u001b[0m     fpr, tpr, _ \u001b[38;5;241m=\u001b[39m roc_curve(\n\u001b[0;32m    391\u001b[0m         y_true,\n\u001b[0;32m    392\u001b[0m         y_pred,\n\u001b[1;32m   (...)\u001b[0m\n\u001b[0;32m    395\u001b[0m         drop_intermediate\u001b[38;5;241m=\u001b[39mdrop_intermediate,\n\u001b[0;32m    396\u001b[0m     )\n\u001b[0;32m    397\u001b[0m     roc_auc \u001b[38;5;241m=\u001b[39m auc(fpr, tpr)\n",
      "File \u001b[1;32mc:\\Users\\hp\\Downloads\\Work\\Eni\\DataChallenge\\Development\\EniDataChallenge\\.venv\\lib\\site-packages\\sklearn\\utils\\_plotting.py:50\u001b[0m, in \u001b[0;36m_BinaryClassifierCurveDisplayMixin._validate_from_predictions_params\u001b[1;34m(cls, y_true, y_pred, sample_weight, pos_label, name)\u001b[0m\n\u001b[0;32m     47\u001b[0m check_matplotlib_support(\u001b[38;5;124mf\u001b[39m\u001b[38;5;124m\"\u001b[39m\u001b[38;5;132;01m{\u001b[39;00m\u001b[38;5;28mcls\u001b[39m\u001b[38;5;241m.\u001b[39m\u001b[38;5;18m__name__\u001b[39m\u001b[38;5;132;01m}\u001b[39;00m\u001b[38;5;124m.from_predictions\u001b[39m\u001b[38;5;124m\"\u001b[39m)\n\u001b[0;32m     49\u001b[0m \u001b[38;5;28;01mif\u001b[39;00m type_of_target(y_true) \u001b[38;5;241m!=\u001b[39m \u001b[38;5;124m\"\u001b[39m\u001b[38;5;124mbinary\u001b[39m\u001b[38;5;124m\"\u001b[39m:\n\u001b[1;32m---> 50\u001b[0m     \u001b[38;5;28;01mraise\u001b[39;00m \u001b[38;5;167;01mValueError\u001b[39;00m(\n\u001b[0;32m     51\u001b[0m         \u001b[38;5;124mf\u001b[39m\u001b[38;5;124m\"\u001b[39m\u001b[38;5;124mThe target y is not binary. Got \u001b[39m\u001b[38;5;132;01m{\u001b[39;00mtype_of_target(y_true)\u001b[38;5;132;01m}\u001b[39;00m\u001b[38;5;124m type of\u001b[39m\u001b[38;5;124m\"\u001b[39m\n\u001b[0;32m     52\u001b[0m         \u001b[38;5;124m\"\u001b[39m\u001b[38;5;124m target.\u001b[39m\u001b[38;5;124m\"\u001b[39m\n\u001b[0;32m     53\u001b[0m     )\n\u001b[0;32m     55\u001b[0m check_consistent_length(y_true, y_pred, sample_weight)\n\u001b[0;32m     56\u001b[0m pos_label \u001b[38;5;241m=\u001b[39m _check_pos_label_consistency(pos_label, y_true)\n",
      "\u001b[1;31mValueError\u001b[0m: The target y is not binary. Got multiclass type of target."
     ]
    }
   ],
   "source": [
    "from sklearn.metrics import RocCurveDisplay\n",
    "RocCurveDisplay.from_predictions(y_test,y_pred)"
   ]
  },
  {
   "cell_type": "code",
   "execution_count": 139,
   "metadata": {},
   "outputs": [],
   "source": [
    "fi=best_estimator2.steps[1][1].feature_importances_"
   ]
  },
  {
   "cell_type": "code",
   "execution_count": 144,
   "metadata": {},
   "outputs": [
    {
     "ename": "TypeError",
     "evalue": "barplot() takes from 0 to 1 positional arguments but 2 were given",
     "output_type": "error",
     "traceback": [
      "\u001b[1;31m---------------------------------------------------------------------------\u001b[0m",
      "\u001b[1;31mTypeError\u001b[0m                                 Traceback (most recent call last)",
      "Cell \u001b[1;32mIn[144], line 1\u001b[0m\n\u001b[1;32m----> 1\u001b[0m \u001b[43msns\u001b[49m\u001b[38;5;241;43m.\u001b[39;49m\u001b[43mbarplot\u001b[49m\u001b[43m(\u001b[49m\u001b[43mnp\u001b[49m\u001b[38;5;241;43m.\u001b[39;49m\u001b[43marange\u001b[49m\u001b[43m(\u001b[49m\u001b[38;5;241;43m1\u001b[39;49m\u001b[43m,\u001b[49m\u001b[38;5;28;43mlen\u001b[39;49m\u001b[43m(\u001b[49m\u001b[43mfi\u001b[49m\u001b[43m)\u001b[49m\u001b[38;5;241;43m+\u001b[39;49m\u001b[38;5;241;43m1\u001b[39;49m\u001b[43m)\u001b[49m\u001b[43m,\u001b[49m\u001b[43mfi\u001b[49m\u001b[43m)\u001b[49m\n",
      "\u001b[1;31mTypeError\u001b[0m: barplot() takes from 0 to 1 positional arguments but 2 were given"
     ]
    }
   ],
   "source": [
    "sns.barplot(np.arange(1,len(fi)+1),fi)"
   ]
  },
  {
   "cell_type": "code",
   "execution_count": 148,
   "metadata": {},
   "outputs": [],
   "source": [
    "feat_importances = pd.Series(fi, index=X.columns)"
   ]
  },
  {
   "cell_type": "code",
   "execution_count": 158,
   "metadata": {},
   "outputs": [
    {
     "data": {
      "text/plain": [
       "<Axes: >"
      ]
     },
     "execution_count": 158,
     "metadata": {},
     "output_type": "execute_result"
    },
    {
     "data": {
      "image/png": "[encoded data removed]",
      "text/plain": [
       "<Figure size 1280x800 with 1 Axes>"
      ]
     },
     "metadata": {},
     "output_type": "display_data"
    }
   ],
   "source": [
    "fig,ax = plt.subplots(figsize=(16,10))\n",
    "sns.barplot(feat_importances,ax=ax)"
   ]
  },
  {
   "cell_type": "code",
   "execution_count": 213,
   "metadata": {},
   "outputs": [
    {
     "name": "stdout",
     "output_type": "stream",
     "text": [
      "[0]\tvalidation_0-mlogloss:0.76938\n",
      "[1]\tvalidation_0-mlogloss:0.57948\n",
      "[2]\tvalidation_0-mlogloss:0.45969\n",
      "[3]\tvalidation_0-mlogloss:0.37454\n"
     ]
    },
    {
     "name": "stdout",
     "output_type": "stream",
     "text": [
      "[4]\tvalidation_0-mlogloss:0.31132\n",
      "[5]\tvalidation_0-mlogloss:0.26730\n",
      "[6]\tvalidation_0-mlogloss:0.23731\n",
      "[7]\tvalidation_0-mlogloss:0.21375\n",
      "[8]\tvalidation_0-mlogloss:0.19545\n",
      "[9]\tvalidation_0-mlogloss:0.17944\n",
      "[10]\tvalidation_0-mlogloss:0.16887\n",
      "[11]\tvalidation_0-mlogloss:0.16063\n",
      "[12]\tvalidation_0-mlogloss:0.15394\n",
      "[13]\tvalidation_0-mlogloss:0.14799\n",
      "[14]\tvalidation_0-mlogloss:0.14399\n",
      "[15]\tvalidation_0-mlogloss:0.14158\n",
      "[16]\tvalidation_0-mlogloss:0.14082\n",
      "[17]\tvalidation_0-mlogloss:0.13850\n",
      "[18]\tvalidation_0-mlogloss:0.13681\n",
      "[19]\tvalidation_0-mlogloss:0.13662\n",
      "[20]\tvalidation_0-mlogloss:0.13584\n",
      "[21]\tvalidation_0-mlogloss:0.13567\n",
      "[22]\tvalidation_0-mlogloss:0.13610\n",
      "[23]\tvalidation_0-mlogloss:0.13462\n",
      "[24]\tvalidation_0-mlogloss:0.13447\n",
      "[25]\tvalidation_0-mlogloss:0.13434\n",
      "[26]\tvalidation_0-mlogloss:0.13422\n",
      "[27]\tvalidation_0-mlogloss:0.13524\n"
     ]
    },
    {
     "data": {
      "text/html": [
       "<style>#sk-container-id-4 {color: black;}#sk-container-id-4 pre{padding: 0;}#sk-container-id-4 div.sk-toggleable {background-color: white;}#sk-container-id-4 label.sk-toggleable__label {cursor: pointer;display: block;width: 100%;margin-bottom: 0;padding: 0.3em;box-sizing: border-box;text-align: center;}#sk-container-id-4 label.sk-toggleable__label-arrow:before {content: \"▸\";float: left;margin-right: 0.25em;color: #696969;}#sk-container-id-4 label.sk-toggleable__label-arrow:hover:before {color: black;}#sk-container-id-4 div.sk-estimator:hover label.sk-toggleable__label-arrow:before {color: black;}#sk-container-id-4 div.sk-toggleable__content {max-height: 0;max-width: 0;overflow: hidden;text-align: left;background-color: #f0f8ff;}#sk-container-id-4 div.sk-toggleable__content pre {margin: 0.2em;color: black;border-radius: 0.25em;background-color: #f0f8ff;}#sk-container-id-4 input.sk-toggleable__control:checked~div.sk-toggleable__content {max-height: 200px;max-width: 100%;overflow: auto;}#sk-container-id-4 input.sk-toggleable__control:checked~label.sk-toggleable__label-arrow:before {content: \"▾\";}#sk-container-id-4 div.sk-estimator input.sk-toggleable__control:checked~label.sk-toggleable__label {background-color: #d4ebff;}#sk-container-id-4 div.sk-label input.sk-toggleable__control:checked~label.sk-toggleable__label {background-color: #d4ebff;}#sk-container-id-4 input.sk-hidden--visually {border: 0;clip: rect(1px 1px 1px 1px);clip: rect(1px, 1px, 1px, 1px);height: 1px;margin: -1px;overflow: hidden;padding: 0;position: absolute;width: 1px;}#sk-container-id-4 div.sk-estimator {font-family: monospace;background-color: #f0f8ff;border: 1px dotted black;border-radius: 0.25em;box-sizing: border-box;margin-bottom: 0.5em;}#sk-container-id-4 div.sk-estimator:hover {background-color: #d4ebff;}#sk-container-id-4 div.sk-parallel-item::after {content: \"\";width: 100%;border-bottom: 1px solid gray;flex-grow: 1;}#sk-container-id-4 div.sk-label:hover label.sk-toggleable__label {background-color: #d4ebff;}#sk-container-id-4 div.sk-serial::before {content: \"\";position: absolute;border-left: 1px solid gray;box-sizing: border-box;top: 0;bottom: 0;left: 50%;z-index: 0;}#sk-container-id-4 div.sk-serial {display: flex;flex-direction: column;align-items: center;background-color: white;padding-right: 0.2em;padding-left: 0.2em;position: relative;}#sk-container-id-4 div.sk-item {position: relative;z-index: 1;}#sk-container-id-4 div.sk-parallel {display: flex;align-items: stretch;justify-content: center;background-color: white;position: relative;}#sk-container-id-4 div.sk-item::before, #sk-container-id-4 div.sk-parallel-item::before {content: \"\";position: absolute;border-left: 1px solid gray;box-sizing: border-box;top: 0;bottom: 0;left: 50%;z-index: -1;}#sk-container-id-4 div.sk-parallel-item {display: flex;flex-direction: column;z-index: 1;position: relative;background-color: white;}#sk-container-id-4 div.sk-parallel-item:first-child::after {align-self: flex-end;width: 50%;}#sk-container-id-4 div.sk-parallel-item:last-child::after {align-self: flex-start;width: 50%;}#sk-container-id-4 div.sk-parallel-item:only-child::after {width: 0;}#sk-container-id-4 div.sk-dashed-wrapped {border: 1px dashed gray;margin: 0 0.4em 0.5em 0.4em;box-sizing: border-box;padding-bottom: 0.4em;background-color: white;}#sk-container-id-4 div.sk-label label {font-family: monospace;font-weight: bold;display: inline-block;line-height: 1.2em;}#sk-container-id-4 div.sk-label-container {text-align: center;}#sk-container-id-4 div.sk-container {/* jupyter's `normalize.less` sets `[hidden] { display: none; }` but bootstrap.min.css set `[hidden] { display: none !important; }` so we also need the `!important` here to be able to override the default hidden behavior on the sphinx rendered scikit-learn.org. See: https://github.com/scikit-learn/scikit-learn/issues/21755 */display: inline-block !important;position: relative;}#sk-container-id-4 div.sk-text-repr-fallback {display: none;}</style><div id=\"sk-container-id-4\" class=\"sk-top-container\"><div class=\"sk-text-repr-fallback\"><pre>XGBClassifier(base_score=None, booster=None, callbacks=None,\n",
       "              colsample_bylevel=None, colsample_bynode=None,\n",
       "              colsample_bytree=None, device=None, early_stopping_rounds=2,\n",
       "              enable_categorical=False, eval_metric=None, feature_types=None,\n",
       "              gamma=None, grow_policy=None, importance_type=None,\n",
       "              interaction_constraints=None, learning_rate=None, max_bin=None,\n",
       "              max_cat_threshold=None, max_cat_to_onehot=None,\n",
       "              max_delta_step=None, max_depth=None, max_leaves=None,\n",
       "              min_child_weight=None, missing=nan, monotone_constraints=None,\n",
       "              multi_strategy=None, n_estimators=None, n_jobs=None,\n",
       "              num_parallel_tree=None, objective=&#x27;multi:softprob&#x27;, ...)</pre><b>In a Jupyter environment, please rerun this cell to show the HTML representation or trust the notebook. <br />On GitHub, the HTML representation is unable to render, please try loading this page with nbviewer.org.</b></div><div class=\"sk-container\" hidden><div class=\"sk-item\"><div class=\"sk-estimator sk-toggleable\"><input class=\"sk-toggleable__control sk-hidden--visually\" id=\"sk-estimator-id-4\" type=\"checkbox\" checked><label for=\"sk-estimator-id-4\" class=\"sk-toggleable__label sk-toggleable__label-arrow\">XGBClassifier</label><div class=\"sk-toggleable__content\"><pre>XGBClassifier(base_score=None, booster=None, callbacks=None,\n",
       "              colsample_bylevel=None, colsample_bynode=None,\n",
       "              colsample_bytree=None, device=None, early_stopping_rounds=2,\n",
       "              enable_categorical=False, eval_metric=None, feature_types=None,\n",
       "              gamma=None, grow_policy=None, importance_type=None,\n",
       "              interaction_constraints=None, learning_rate=None, max_bin=None,\n",
       "              max_cat_threshold=None, max_cat_to_onehot=None,\n",
       "              max_delta_step=None, max_depth=None, max_leaves=None,\n",
       "              min_child_weight=None, missing=nan, monotone_constraints=None,\n",
       "              multi_strategy=None, n_estimators=None, n_jobs=None,\n",
       "              num_parallel_tree=None, objective=&#x27;multi:softprob&#x27;, ...)</pre></div></div></div></div></div>"
      ],
      "text/plain": [
       "XGBClassifier(base_score=None, booster=None, callbacks=None,\n",
       "              colsample_bylevel=None, colsample_bynode=None,\n",
       "              colsample_bytree=None, device=None, early_stopping_rounds=2,\n",
       "              enable_categorical=False, eval_metric=None, feature_types=None,\n",
       "              gamma=None, grow_policy=None, importance_type=None,\n",
       "              interaction_constraints=None, learning_rate=None, max_bin=None,\n",
       "              max_cat_threshold=None, max_cat_to_onehot=None,\n",
       "              max_delta_step=None, max_depth=None, max_leaves=None,\n",
       "              min_child_weight=None, missing=nan, monotone_constraints=None,\n",
       "              multi_strategy=None, n_estimators=None, n_jobs=None,\n",
       "              num_parallel_tree=None, objective='multi:softprob', ...)"
      ]
     },
     "execution_count": 213,
     "metadata": {},
     "output_type": "execute_result"
    }
   ],
   "source": [
    "import xgboost as xgb\n",
    "from sklearn.model_selection import train_test_split\n",
    "\n",
    "X_train, X_test, y_train, y_test = train_test_split(X, y_encode, test_size=0.2, random_state=1)\n",
    "\n",
    "X_train, X_val, y_train, y_val = train_test_split(X_train, y_train, test_size=0.25, random_state=1)\n",
    "\n",
    "\n",
    "# Use \"hist\" for constructing the trees, with early stopping enabled.\n",
    "clf = xgb.XGBClassifier(tree_method=\"hist\", early_stopping_rounds=2)\n",
    "clf.fit(X_train, y_train, eval_set=[(X_val, y_val)])\n"
   ]
  },
  {
   "cell_type": "markdown",
   "metadata": {},
   "source": [
    "E' un problema di classificazione, multiclass: \"each sample is assigned to one and only one label\"\n",
    "\n",
    "Ragionamento: è un piccolo dataset, ha un numero di features non eccessivo => dimensionality reduction vale la pena? \n",
    "\n",
    "E' un piccolo numero di informazioni => no reti neurali, capire se il MLPclassifier va bene ma al limite. SVC?  => Per mia esperienza, decision trees sempre dato risultati ottimi: provo DT, RF, XGB e LightGBM."
   ]
  },
  {
   "cell_type": "markdown",
   "metadata": {},
   "source": [
    "Analisi risultati. Sembra essere efficace l'uso del ML => performance, spiega tp e fn , Roc ecc. Feature explanations, quale impatti di più. Sarebbe carino un client in cui mettendo valori ti predice la classe (E CON QUALE CONFIDENZA). "
   ]
  },
  {
   "cell_type": "markdown",
   "metadata": {},
   "source": [
    "Cosa hai imparato del problema a partire dal modello: papers, ecc. "
   ]
  },
  {
   "cell_type": "code",
   "execution_count": null,
   "metadata": {},
   "outputs": [],
   "source": [
    "# itera su algoritmi, kfold, hyperparam search\n",
    " "
   ]
  },
  {
   "cell_type": "code",
   "execution_count": 103,
   "metadata": {},
   "outputs": [],
   "source": [
    "y_pred=clf.predict(X_test)"
   ]
  },
  {
   "cell_type": "code",
   "execution_count": 107,
   "metadata": {},
   "outputs": [
    {
     "name": "stdout",
     "output_type": "stream",
     "text": [
      "              precision    recall  f1-score   support\n",
      "\n",
      "           0       0.96      0.99      0.97       414\n",
      "           1       0.90      0.84      0.87        74\n",
      "           2       0.95      0.86      0.90        44\n",
      "\n",
      "    accuracy                           0.95       532\n",
      "   macro avg       0.94      0.90      0.92       532\n",
      "weighted avg       0.95      0.95      0.95       532\n",
      "\n"
     ]
    }
   ],
   "source": [
    "from sklearn import metrics\n",
    "print(metrics.classification_report(y_test, y_pred))#, *, labels=None, target_names=None, sample_weight=None, digits=2, output_dict=False, zero_division='warn'))"
   ]
  },
  {
   "cell_type": "code",
   "execution_count": 110,
   "metadata": {},
   "outputs": [
    {
     "ename": "AttributeError",
     "evalue": "module 'sklearn.metrics' has no attribute 'plot_roc_curve'",
     "output_type": "error",
     "traceback": [
      "\u001b[1;31m---------------------------------------------------------------------------\u001b[0m",
      "\u001b[1;31mAttributeError\u001b[0m                            Traceback (most recent call last)",
      "Cell \u001b[1;32mIn[110], line 1\u001b[0m\n\u001b[1;32m----> 1\u001b[0m \u001b[43mmetrics\u001b[49m\u001b[38;5;241;43m.\u001b[39;49m\u001b[43mplot_roc_curve\u001b[49m(clf, y_pred, y_test) \n",
      "\u001b[1;31mAttributeError\u001b[0m: module 'sklearn.metrics' has no attribute 'plot_roc_curve'"
     ]
    }
   ],
   "source": [
    "metrics.plot_roc_curve(clf, y_pred, y_test) "
   ]
  },
  {
   "cell_type": "markdown",
   "metadata": {},
   "source": [
    "OP: balancing classes, PCA? outliers #X_cut=X_cut[(np.abs(stats.zscore(X_cut)) < 3).all(axis=1)]\n"
   ]
  },
  {
   "cell_type": "markdown",
   "metadata": {},
   "source": []
  }
 ],
 "metadata": {
  "kernelspec": {
   "display_name": ".venv",
   "language": "python",
   "name": "python3"
  },
  "language_info": {
   "codemirror_mode": {
    "name": "ipython",
    "version": 3
   },
   "file_extension": ".py",
   "mimetype": "text/x-python",
   "name": "python",
   "nbconvert_exporter": "python",
   "pygments_lexer": "ipython3",
   "version": "3.8.0"
  }
 },
 "nbformat": 4,
 "nbformat_minor": 2
}
